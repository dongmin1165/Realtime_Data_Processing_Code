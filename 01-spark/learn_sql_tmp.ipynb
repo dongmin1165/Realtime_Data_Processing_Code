{
 "cells": [
  {
   "cell_type": "code",
   "execution_count": 1,
   "id": "26d329a4",
   "metadata": {},
   "outputs": [],
   "source": [
    "from pyspark.sql import SparkSession, Row"
   ]
  },
  {
   "cell_type": "code",
   "execution_count": 2,
   "id": "c73ce0bb",
   "metadata": {},
   "outputs": [],
   "source": [
    "\n",
    "spark = SparkSession.builder.master(\"local\").appName(\"learn-sql\").getOrCreate()\n"
   ]
  },
  {
   "cell_type": "code",
   "execution_count": 3,
   "id": "f6b43b15",
   "metadata": {},
   "outputs": [],
   "source": [
    "stocks = [\n",
    "    ('Google', 'GOOGL', 'USA', 2984, 'USD'), \n",
    "    ('Netflix', 'NFLX', 'USA', 645, 'USD'),\n",
    "    ('Amazon', 'AMZN', 'USA', 3518, 'USD'),\n",
    "    ('Tesla', 'TSLA', 'USA', 1222, 'USD'),\n",
    "    ('Tencent', '0700', 'Hong Kong', 483, 'HKD'),\n",
    "    ('Toyota', '7203', 'Japan', 2006, 'JPY'),\n",
    "    ('Samsung', '005930', 'Korea', 70600, 'KRW'),\n",
    "    ('Kakao', '035720', 'Korea', 125000, 'KRW'),\n",
    "]\n",
    "\n",
    "schema = [\"name\", \"ticker\", \"country\", \"price\", \"currency\"]\n",
    "df = spark.createDataFrame(data=stocks, schema=schema)"
   ]
  },
  {
   "cell_type": "code",
   "execution_count": 4,
   "id": "10ebd411",
   "metadata": {},
   "outputs": [
    {
     "data": {
      "text/plain": [
       "[('name', 'string'),\n",
       " ('ticker', 'string'),\n",
       " ('country', 'string'),\n",
       " ('price', 'bigint'),\n",
       " ('currency', 'string')]"
      ]
     },
     "execution_count": 4,
     "metadata": {},
     "output_type": "execute_result"
    }
   ],
   "source": [
    "df.dtypes"
   ]
  },
  {
   "cell_type": "code",
   "execution_count": 5,
   "id": "ae5671eb",
   "metadata": {},
   "outputs": [
    {
     "name": "stdout",
     "output_type": "stream",
     "text": [
      "+-------+------+---------+------+--------+\n",
      "|   name|ticker|  country| price|currency|\n",
      "+-------+------+---------+------+--------+\n",
      "| Google| GOOGL|      USA|  2984|     USD|\n",
      "|Netflix|  NFLX|      USA|   645|     USD|\n",
      "| Amazon|  AMZN|      USA|  3518|     USD|\n",
      "|  Tesla|  TSLA|      USA|  1222|     USD|\n",
      "|Tencent|  0700|Hong Kong|   483|     HKD|\n",
      "| Toyota|  7203|    Japan|  2006|     JPY|\n",
      "|Samsung|005930|    Korea| 70600|     KRW|\n",
      "|  Kakao|035720|    Korea|125000|     KRW|\n",
      "+-------+------+---------+------+--------+\n",
      "\n"
     ]
    }
   ],
   "source": [
    "df.show()"
   ]
  },
  {
   "cell_type": "code",
   "execution_count": 6,
   "id": "2ceef222",
   "metadata": {},
   "outputs": [],
   "source": [
    "df.createOrReplaceTempView(\"stocks\")"
   ]
  },
  {
   "cell_type": "code",
   "execution_count": 7,
   "id": "11598205",
   "metadata": {},
   "outputs": [
    {
     "name": "stdout",
     "output_type": "stream",
     "text": [
      "+---------+\n",
      "|  country|\n",
      "+---------+\n",
      "|      USA|\n",
      "|      USA|\n",
      "|      USA|\n",
      "|      USA|\n",
      "|Hong Kong|\n",
      "|    Japan|\n",
      "|    Korea|\n",
      "|    Korea|\n",
      "+---------+\n",
      "\n"
     ]
    }
   ],
   "source": [
    "# selecting one column\n",
    "spark.sql(\"select country from stocks\").show()"
   ]
  },
  {
   "cell_type": "code",
   "execution_count": 8,
   "id": "29fac8c5",
   "metadata": {},
   "outputs": [
    {
     "name": "stdout",
     "output_type": "stream",
     "text": [
      "+-------+------+\n",
      "|   name| price|\n",
      "+-------+------+\n",
      "| Google|  2984|\n",
      "|Netflix|   645|\n",
      "| Amazon|  3518|\n",
      "|  Tesla|  1222|\n",
      "|Tencent|   483|\n",
      "| Toyota|  2006|\n",
      "|Samsung| 70600|\n",
      "|  Kakao|125000|\n",
      "+-------+------+\n",
      "\n"
     ]
    }
   ],
   "source": [
    "# selecting multiple column\n",
    "spark.sql(\"select name, price from stocks\").show()"
   ]
  },
  {
   "cell_type": "code",
   "execution_count": 9,
   "id": "48e5e5ec",
   "metadata": {},
   "outputs": [
    {
     "name": "stdout",
     "output_type": "stream",
     "text": [
      "+-------+------+\n",
      "|   name| price|\n",
      "+-------+------+\n",
      "|Samsung| 70600|\n",
      "|  Kakao|125000|\n",
      "+-------+------+\n",
      "\n"
     ]
    }
   ],
   "source": [
    "# conditional\n",
    "spark.sql(\"select name, price from stocks where country = 'Korea'\").show()"
   ]
  },
  {
   "cell_type": "code",
   "execution_count": 10,
   "id": "6e3a9f9a",
   "metadata": {},
   "outputs": [
    {
     "name": "stdout",
     "output_type": "stream",
     "text": [
      "+-------+------+\n",
      "|   name| price|\n",
      "+-------+------+\n",
      "| Google|  2984|\n",
      "| Amazon|  3518|\n",
      "| Toyota|  2006|\n",
      "|Samsung| 70600|\n",
      "|  Kakao|125000|\n",
      "+-------+------+\n",
      "\n"
     ]
    }
   ],
   "source": [
    "# range\n",
    "spark.sql(\"select name, price from stocks where price > 2000\").show()"
   ]
  },
  {
   "cell_type": "code",
   "execution_count": 11,
   "id": "eedd55e9",
   "metadata": {},
   "outputs": [
    {
     "name": "stdout",
     "output_type": "stream",
     "text": [
      "+------+-----+\n",
      "|  name|price|\n",
      "+------+-----+\n",
      "|Google| 2984|\n",
      "|Amazon| 3518|\n",
      "+------+-----+\n",
      "\n"
     ]
    }
   ],
   "source": [
    "# multiple conditional\n",
    "spark.sql(\"select name, price from stocks where price > 2000 and country='USA'\").show()"
   ]
  },
  {
   "cell_type": "code",
   "execution_count": 12,
   "id": "abf9e0bf",
   "metadata": {},
   "outputs": [
    {
     "name": "stdout",
     "output_type": "stream",
     "text": [
      "+------+-----+\n",
      "|  name|price|\n",
      "+------+-----+\n",
      "|Amazon| 3518|\n",
      "+------+-----+\n",
      "\n"
     ]
    }
   ],
   "source": [
    "# like condition\n",
    "spark.sql(\"select name, price from stocks where country like 'U%' and name not like '%e%'\").show()"
   ]
  },
  {
   "cell_type": "code",
   "execution_count": 13,
   "id": "a753621a",
   "metadata": {},
   "outputs": [
    {
     "name": "stdout",
     "output_type": "stream",
     "text": [
      "+------+-----+\n",
      "|  name|price|\n",
      "+------+-----+\n",
      "|Google| 2984|\n",
      "|Amazon| 3518|\n",
      "| Tesla| 1222|\n",
      "|Toyota| 2006|\n",
      "+------+-----+\n",
      "\n"
     ]
    }
   ],
   "source": [
    "# between condition\n",
    "spark.sql(\"select name, price from stocks where price between 1000 and 10000\").show()"
   ]
  },
  {
   "cell_type": "code",
   "execution_count": 14,
   "id": "32f03b34",
   "metadata": {},
   "outputs": [
    {
     "name": "stdout",
     "output_type": "stream",
     "text": [
      "+-------+-----+-------+\n",
      "|   name|price|country|\n",
      "+-------+-----+-------+\n",
      "| Google| 2984|    USA|\n",
      "|Netflix|  645|    USA|\n",
      "| Amazon| 3518|    USA|\n",
      "|  Tesla| 1222|    USA|\n",
      "+-------+-----+-------+\n",
      "\n"
     ]
    }
   ],
   "source": [
    "# subset 1\n",
    "spark.sql(\"select name, price, country from stocks where country = 'USA'\").show()"
   ]
  },
  {
   "cell_type": "code",
   "execution_count": 15,
   "id": "5717a613",
   "metadata": {},
   "outputs": [
    {
     "name": "stdout",
     "output_type": "stream",
     "text": [
      "+------+-----+--------+\n",
      "|  name|price|currency|\n",
      "+------+-----+--------+\n",
      "|Google| 2984|     USD|\n",
      "|Amazon| 3518|     USD|\n",
      "+------+-----+--------+\n",
      "\n"
     ]
    }
   ],
   "source": [
    "# subset 2\n",
    "spark.sql(\"select name, price, currency from stocks \\\n",
    "where currency='USD' and \\\n",
    "price > (select price from stocks where name = 'Tesla') \").show()"
   ]
  },
  {
   "cell_type": "code",
   "execution_count": 16,
   "id": "997114aa",
   "metadata": {},
   "outputs": [
    {
     "name": "stdout",
     "output_type": "stream",
     "text": [
      "+-------+------+---------+\n",
      "|   name| price|  country|\n",
      "+-------+------+---------+\n",
      "|Tencent|   483|Hong Kong|\n",
      "|Netflix|   645|      USA|\n",
      "|  Tesla|  1222|      USA|\n",
      "| Toyota|  2006|    Japan|\n",
      "| Google|  2984|      USA|\n",
      "| Amazon|  3518|      USA|\n",
      "|Samsung| 70600|    Korea|\n",
      "|  Kakao|125000|    Korea|\n",
      "+-------+------+---------+\n",
      "\n"
     ]
    }
   ],
   "source": [
    "# order by asc\n",
    "spark.sql(\"select name, price, country from stocks order by price asc\").show()"
   ]
  },
  {
   "cell_type": "code",
   "execution_count": 17,
   "id": "f4937be8",
   "metadata": {},
   "outputs": [
    {
     "name": "stdout",
     "output_type": "stream",
     "text": [
      "+-------+------+---------+\n",
      "|   name| price|  country|\n",
      "+-------+------+---------+\n",
      "|  Kakao|125000|    Korea|\n",
      "|Samsung| 70600|    Korea|\n",
      "| Amazon|  3518|      USA|\n",
      "| Google|  2984|      USA|\n",
      "| Toyota|  2006|    Japan|\n",
      "|  Tesla|  1222|      USA|\n",
      "|Netflix|   645|      USA|\n",
      "|Tencent|   483|Hong Kong|\n",
      "+-------+------+---------+\n",
      "\n"
     ]
    }
   ],
   "source": [
    "# order by desc\n",
    "spark.sql(\"select name, price, country from stocks order by price desc\").show()"
   ]
  },
  {
   "cell_type": "code",
   "execution_count": 18,
   "id": "ebbb2c20",
   "metadata": {},
   "outputs": [
    {
     "name": "stdout",
     "output_type": "stream",
     "text": [
      "+-------+\n",
      "|   name|\n",
      "+-------+\n",
      "|  Tesla|\n",
      "|  Kakao|\n",
      "| Amazon|\n",
      "| Toyota|\n",
      "| Google|\n",
      "|Netflix|\n",
      "|Samsung|\n",
      "|Tencent|\n",
      "+-------+\n",
      "\n"
     ]
    }
   ],
   "source": [
    "# order by length()\n",
    "spark.sql('select name from stocks order by length(name)').show()"
   ]
  },
  {
   "cell_type": "code",
   "execution_count": 19,
   "id": "b71d67df",
   "metadata": {},
   "outputs": [
    {
     "name": "stdout",
     "output_type": "stream",
     "text": [
      "+----------+\n",
      "|sum(price)|\n",
      "+----------+\n",
      "|    195600|\n",
      "+----------+\n",
      "\n"
     ]
    }
   ],
   "source": [
    "# sum()\n",
    "spark.sql(\"select sum(price) from stocks where country='Korea'\").show()"
   ]
  },
  {
   "cell_type": "code",
   "execution_count": 20,
   "id": "103dd473",
   "metadata": {},
   "outputs": [
    {
     "name": "stdout",
     "output_type": "stream",
     "text": [
      "+-----------+\n",
      "|mean(price)|\n",
      "+-----------+\n",
      "|    97800.0|\n",
      "+-----------+\n",
      "\n"
     ]
    }
   ],
   "source": [
    "# mean()\n",
    "spark.sql(\"select mean(price) from stocks where country='Korea'\").show()"
   ]
  },
  {
   "cell_type": "code",
   "execution_count": 21,
   "id": "127b49b9",
   "metadata": {},
   "outputs": [
    {
     "name": "stdout",
     "output_type": "stream",
     "text": [
      "+------------+\n",
      "|count(price)|\n",
      "+------------+\n",
      "|           2|\n",
      "+------------+\n",
      "\n"
     ]
    }
   ],
   "source": [
    "# count()\n",
    "spark.sql(\"select count(price) from stocks where country='Korea'\").show()"
   ]
  },
  {
   "cell_type": "code",
   "execution_count": 22,
   "id": "5b1ec725",
   "metadata": {},
   "outputs": [
    {
     "name": "stdout",
     "output_type": "stream",
     "text": [
      "+------------+\n",
      "|count(price)|\n",
      "+------------+\n",
      "|           5|\n",
      "+------------+\n",
      "\n"
     ]
    }
   ],
   "source": [
    "# in ()\n",
    "spark.sql(\"select count(price) from stocks where country in ('Korea', 'USA') and price > 1000\").show()"
   ]
  },
  {
   "cell_type": "code",
   "execution_count": 25,
   "id": "0bb98ac4",
   "metadata": {},
   "outputs": [],
   "source": [
    "# table 2개 합치기\n",
    "earnings = [\n",
    "    ('Google', 27.99, 'USD'), \n",
    "    ('Netflix', 2.56, 'USD'),\n",
    "    ('Amazon', 6.12, 'USD'),\n",
    "    ('Tesla', 1.86, 'USD'),\n",
    "    ('Tencent', 11.01, 'HKD'),\n",
    "    ('Toyota', 224.82, 'JPY'),\n",
    "    ('Samsung', 1780., 'KRW'),\n",
    "    ('Kakao', 705., 'KRW')\n",
    "]\n",
    "# earningsSchema = [\"name\", \"eps\", \"currency\"]\n",
    "from pyspark.sql.types import MapType,StringType,IntegerType,FloatType,StructType, StructField\n",
    "\n",
    "earningsSchema = StructType([ \n",
    "    StructField(\"name\",StringType(),True), \n",
    "    StructField(\"eps\",FloatType(),True), \n",
    "    StructField(\"currency\",StringType(),True), \n",
    "])\n",
    "earningsDF = spark.createDataFrame(data=earnings, schema=earningsSchema)\n",
    "earningsDF.createOrReplaceTempView(\"earnings\")"
   ]
  },
  {
   "cell_type": "code",
   "execution_count": 26,
   "id": "8468c86d",
   "metadata": {},
   "outputs": [
    {
     "name": "stdout",
     "output_type": "stream",
     "text": [
      "+-------+------+--------+\n",
      "|   name|   eps|currency|\n",
      "+-------+------+--------+\n",
      "| Google| 27.99|     USD|\n",
      "|Netflix|  2.56|     USD|\n",
      "| Amazon|  6.12|     USD|\n",
      "|  Tesla|  1.86|     USD|\n",
      "|Tencent| 11.01|     HKD|\n",
      "| Toyota|224.82|     JPY|\n",
      "|Samsung|1780.0|     KRW|\n",
      "|  Kakao| 705.0|     KRW|\n",
      "+-------+------+--------+\n",
      "\n"
     ]
    }
   ],
   "source": [
    "earningsDF.select(\"*\").show()"
   ]
  },
  {
   "cell_type": "code",
   "execution_count": 27,
   "id": "2f18f75c",
   "metadata": {},
   "outputs": [
    {
     "name": "stdout",
     "output_type": "stream",
     "text": [
      "+-------+------+---------+------+--------+-------+------+--------+\n",
      "|   name|ticker|  country| price|currency|   name|   eps|currency|\n",
      "+-------+------+---------+------+--------+-------+------+--------+\n",
      "| Amazon|  AMZN|      USA|  3518|     USD| Amazon|  6.12|     USD|\n",
      "| Google| GOOGL|      USA|  2984|     USD| Google| 27.99|     USD|\n",
      "|  Kakao|035720|    Korea|125000|     KRW|  Kakao| 705.0|     KRW|\n",
      "|Netflix|  NFLX|      USA|   645|     USD|Netflix|  2.56|     USD|\n",
      "|Samsung|005930|    Korea| 70600|     KRW|Samsung|1780.0|     KRW|\n",
      "|Tencent|  0700|Hong Kong|   483|     HKD|Tencent| 11.01|     HKD|\n",
      "|  Tesla|  TSLA|      USA|  1222|     USD|  Tesla|  1.86|     USD|\n",
      "| Toyota|  7203|    Japan|  2006|     JPY| Toyota|224.82|     JPY|\n",
      "+-------+------+---------+------+--------+-------+------+--------+\n",
      "\n"
     ]
    }
   ],
   "source": [
    "spark.sql(\"select * from stocks join earnings on stocks.name = earnings.name\").show()"
   ]
  },
  {
   "cell_type": "code",
   "execution_count": 28,
   "id": "2eda9e09",
   "metadata": {},
   "outputs": [
    {
     "name": "stdout",
     "output_type": "stream",
     "text": [
      "+------------------+\n",
      "|     (price / eps)|\n",
      "+------------------+\n",
      "| 574.8366120563447|\n",
      "| 106.6095042658442|\n",
      "| 177.3049645390071|\n",
      "| 251.9531306315913|\n",
      "|39.662921348314605|\n",
      "| 43.86920889728746|\n",
      "|  656.989242258975|\n",
      "| 8.922693419839167|\n",
      "+------------------+\n",
      "\n"
     ]
    }
   ],
   "source": [
    "# 주가 수익 비율 (PER) - 회사가 버는 돈에 비해 얼마나 주식이 비싼가\n",
    "spark.sql(\"select (stocks.price/earnings.eps) from stocks join earnings on stocks.name = earnings.name\").show()"
   ]
  },
  {
   "cell_type": "code",
   "execution_count": null,
   "id": "939f2fb4",
   "metadata": {},
   "outputs": [],
   "source": []
  }
 ],
 "metadata": {
  "kernelspec": {
   "display_name": "Python 3",
   "language": "python",
   "name": "python3"
  },
  "language_info": {
   "codemirror_mode": {
    "name": "ipython",
    "version": 3
   },
   "file_extension": ".py",
   "mimetype": "text/x-python",
   "name": "python",
   "nbconvert_exporter": "python",
   "pygments_lexer": "ipython3",
   "version": "3.8.8"
  }
 },
 "nbformat": 4,
 "nbformat_minor": 5
}
