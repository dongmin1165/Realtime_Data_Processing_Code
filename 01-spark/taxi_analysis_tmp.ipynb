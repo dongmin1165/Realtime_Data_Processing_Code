{
 "cells": [
  {
   "cell_type": "code",
   "execution_count": 35,
   "id": "9be00c22",
   "metadata": {},
   "outputs": [],
   "source": [
    "from pyspark.sql import SparkSession"
   ]
  },
  {
   "cell_type": "code",
   "execution_count": 36,
   "id": "67adac20",
   "metadata": {},
   "outputs": [],
   "source": [
    "spark = SparkSession.builder.appName(\"trip_count_by_zone_sql2\").getOrCreate()"
   ]
  },
  {
   "cell_type": "code",
   "execution_count": 41,
   "id": "2fa431b8",
   "metadata": {},
   "outputs": [],
   "source": [
    "trip_files = \"/Users/keon/fastcampus/data-engineering/01-spark/data/trips/*\"\n",
    "zone_file = \"/Users/keon/fastcampus/data-engineering/01-spark/data/taxi+_zone_lookup.csv\""
   ]
  },
  {
   "cell_type": "code",
   "execution_count": 55,
   "id": "25268510",
   "metadata": {},
   "outputs": [],
   "source": [
    "trips_df = spark.read.csv(f\"file:///{trip_files}\", inferSchema = True, header = True)\n",
    "zones_df = spark.read.csv(f\"file:///{zone_file}\", inferSchema = True, header = True)\n",
    "# trip_data = spark.read.format(\"csv\").option(\"header\", \"true\").load(trip_files)"
   ]
  },
  {
   "cell_type": "code",
   "execution_count": 56,
   "id": "c6dffc56",
   "metadata": {},
   "outputs": [
    {
     "name": "stdout",
     "output_type": "stream",
     "text": [
      "root\n",
      " |-- VendorID: integer (nullable = true)\n",
      " |-- tpep_pickup_datetime: string (nullable = true)\n",
      " |-- tpep_dropoff_datetime: string (nullable = true)\n",
      " |-- passenger_count: integer (nullable = true)\n",
      " |-- trip_distance: double (nullable = true)\n",
      " |-- RatecodeID: integer (nullable = true)\n",
      " |-- store_and_fwd_flag: string (nullable = true)\n",
      " |-- PULocationID: integer (nullable = true)\n",
      " |-- DOLocationID: integer (nullable = true)\n",
      " |-- payment_type: integer (nullable = true)\n",
      " |-- fare_amount: double (nullable = true)\n",
      " |-- extra: double (nullable = true)\n",
      " |-- mta_tax: double (nullable = true)\n",
      " |-- tip_amount: double (nullable = true)\n",
      " |-- tolls_amount: double (nullable = true)\n",
      " |-- improvement_surcharge: double (nullable = true)\n",
      " |-- total_amount: double (nullable = true)\n",
      " |-- congestion_surcharge: double (nullable = true)\n",
      "\n",
      "root\n",
      " |-- LocationID: integer (nullable = true)\n",
      " |-- Borough: string (nullable = true)\n",
      " |-- Zone: string (nullable = true)\n",
      " |-- service_zone: string (nullable = true)\n",
      "\n"
     ]
    }
   ],
   "source": [
    "trips_df.printSchema()\n",
    "zones_df.printSchema()"
   ]
  },
  {
   "cell_type": "code",
   "execution_count": 58,
   "id": "2255f6fc",
   "metadata": {},
   "outputs": [],
   "source": [
    "trips_df.createOrReplaceTempView(\"trips\")\n",
    "zone_df.createOrReplaceTempView(\"zones\")"
   ]
  },
  {
   "cell_type": "code",
   "execution_count": 131,
   "id": "1bba6eef",
   "metadata": {},
   "outputs": [],
   "source": [
    "query = \"\"\"\n",
    "    SELECT \n",
    "        t.VendorID as vendor_id,\n",
    "        TO_DATE(t.tpep_pickup_datetime) as pickup_date,\n",
    "        TO_DATE(t.tpep_dropoff_datetime) as dropoff_date,\n",
    "        HOUR(t.tpep_pickup_datetime) as pickup_time,\n",
    "        HOUR(t.tpep_dropoff_datetime) as dropoff_time,\n",
    "        t.trip_distance,\n",
    "        t.RatecodeID as rate_code,\n",
    "        t.store_and_fwd_flag,\n",
    "        t.fare_amount,\n",
    "        t.tip_amount,\n",
    "        t.tolls_amount,\n",
    "        t.total_amount,\n",
    "        t.payment_type,\n",
    "        t.passenger_count,\n",
    "        t.PULocationID as pickup_location_id,\n",
    "        pz.Zone as pickup_zone,\n",
    "        t.DOLocationID as dropoff_location_id,\n",
    "        dz.Zone as dropoff_zone\n",
    "    FROM \n",
    "        trips t\n",
    "    LEFT JOIN\n",
    "        zones pz\n",
    "        ON\n",
    "            t.PULocationID = pz.LocationID\n",
    "    LEFT JOIN\n",
    "        zones dz\n",
    "        ON\n",
    "            t.DOLocationID = dz.LocationID\n",
    "\"\"\"\n",
    "combo_df = spark.sql(query)\n",
    "combo_df.createOrReplaceTempView(\"combo\")"
   ]
  },
  {
   "cell_type": "code",
   "execution_count": 132,
   "id": "6a69592e",
   "metadata": {},
   "outputs": [
    {
     "name": "stdout",
     "output_type": "stream",
     "text": [
      "root\n",
      " |-- vendor_id: integer (nullable = true)\n",
      " |-- pickup_date: date (nullable = true)\n",
      " |-- dropoff_date: date (nullable = true)\n",
      " |-- pickup_time: integer (nullable = true)\n",
      " |-- dropoff_time: integer (nullable = true)\n",
      " |-- trip_distance: double (nullable = true)\n",
      " |-- rate_code: integer (nullable = true)\n",
      " |-- store_and_fwd_flag: string (nullable = true)\n",
      " |-- fare_amount: double (nullable = true)\n",
      " |-- tip_amount: double (nullable = true)\n",
      " |-- tolls_amount: double (nullable = true)\n",
      " |-- total_amount: double (nullable = true)\n",
      " |-- payment_type: integer (nullable = true)\n",
      " |-- passenger_count: integer (nullable = true)\n",
      " |-- pickup_location_id: integer (nullable = true)\n",
      " |-- pickup_zone: string (nullable = true)\n",
      " |-- dropoff_location_id: integer (nullable = true)\n",
      " |-- dropoff_zone: string (nullable = true)\n",
      "\n"
     ]
    }
   ],
   "source": [
    "combo_df.printSchema()"
   ]
  },
  {
   "cell_type": "code",
   "execution_count": 142,
   "id": "b41c0db9",
   "metadata": {},
   "outputs": [
    {
     "name": "stdout",
     "output_type": "stream",
     "text": [
      "+-----------+-----------+\n",
      "|pickup_date|pickup_time|\n",
      "+-----------+-----------+\n",
      "| 2021-01-01|         15|\n",
      "| 2021-01-01|         15|\n",
      "| 2021-01-01|         15|\n",
      "| 2021-01-01|         15|\n",
      "| 2021-01-01|         15|\n",
      "| 2021-01-01|         15|\n",
      "| 2021-01-01|         15|\n",
      "| 2021-01-01|         15|\n",
      "| 2021-01-01|         15|\n",
      "| 2021-01-01|         15|\n",
      "| 2021-01-01|         15|\n",
      "| 2021-01-01|         15|\n",
      "| 2021-01-01|         15|\n",
      "| 2021-01-01|         15|\n",
      "| 2021-01-01|         15|\n",
      "| 2021-01-01|         15|\n",
      "| 2021-01-01|         15|\n",
      "| 2021-01-01|         15|\n",
      "| 2021-01-01|         15|\n",
      "| 2021-01-01|         15|\n",
      "+-----------+-----------+\n",
      "only showing top 20 rows\n",
      "\n"
     ]
    }
   ],
   "source": [
    "spark.sql(\"SELECT pickup_date, pickup_time from combo WHERE pickup_time > 0\").show()"
   ]
  },
  {
   "cell_type": "markdown",
   "id": "826e6d7d",
   "metadata": {},
   "source": [
    "# Check Data"
   ]
  },
  {
   "cell_type": "code",
   "execution_count": 73,
   "id": "dfdf5f27",
   "metadata": {},
   "outputs": [
    {
     "data": {
      "text/html": [
       "<div>\n",
       "<style scoped>\n",
       "    .dataframe tbody tr th:only-of-type {\n",
       "        vertical-align: middle;\n",
       "    }\n",
       "\n",
       "    .dataframe tbody tr th {\n",
       "        vertical-align: top;\n",
       "    }\n",
       "\n",
       "    .dataframe thead th {\n",
       "        text-align: right;\n",
       "    }\n",
       "</style>\n",
       "<table border=\"1\" class=\"dataframe\">\n",
       "  <thead>\n",
       "    <tr style=\"text-align: right;\">\n",
       "      <th></th>\n",
       "      <th>summary</th>\n",
       "      <th>total_amount</th>\n",
       "    </tr>\n",
       "  </thead>\n",
       "  <tbody>\n",
       "    <tr>\n",
       "      <th>0</th>\n",
       "      <td>count</td>\n",
       "      <td>15000700</td>\n",
       "    </tr>\n",
       "    <tr>\n",
       "      <th>1</th>\n",
       "      <td>mean</td>\n",
       "      <td>18.75545205706905</td>\n",
       "    </tr>\n",
       "    <tr>\n",
       "      <th>2</th>\n",
       "      <td>stddev</td>\n",
       "      <td>145.74424528059743</td>\n",
       "    </tr>\n",
       "    <tr>\n",
       "      <th>3</th>\n",
       "      <td>min</td>\n",
       "      <td>-647.8</td>\n",
       "    </tr>\n",
       "    <tr>\n",
       "      <th>4</th>\n",
       "      <td>max</td>\n",
       "      <td>398469.2</td>\n",
       "    </tr>\n",
       "  </tbody>\n",
       "</table>\n",
       "</div>"
      ],
      "text/plain": [
       "  summary        total_amount\n",
       "0   count            15000700\n",
       "1    mean   18.75545205706905\n",
       "2  stddev  145.74424528059743\n",
       "3     min              -647.8\n",
       "4     max            398469.2"
      ]
     },
     "execution_count": 73,
     "metadata": {},
     "output_type": "execute_result"
    }
   ],
   "source": [
    "combo_df.select(\"total_amount\").describe().toPandas()"
   ]
  },
  {
   "cell_type": "code",
   "execution_count": 74,
   "id": "d016fb5b",
   "metadata": {},
   "outputs": [
    {
     "data": {
      "text/html": [
       "<div>\n",
       "<style scoped>\n",
       "    .dataframe tbody tr th:only-of-type {\n",
       "        vertical-align: middle;\n",
       "    }\n",
       "\n",
       "    .dataframe tbody tr th {\n",
       "        vertical-align: top;\n",
       "    }\n",
       "\n",
       "    .dataframe thead th {\n",
       "        text-align: right;\n",
       "    }\n",
       "</style>\n",
       "<table border=\"1\" class=\"dataframe\">\n",
       "  <thead>\n",
       "    <tr style=\"text-align: right;\">\n",
       "      <th></th>\n",
       "      <th>summary</th>\n",
       "      <th>trip_distance</th>\n",
       "    </tr>\n",
       "  </thead>\n",
       "  <tbody>\n",
       "    <tr>\n",
       "      <th>0</th>\n",
       "      <td>count</td>\n",
       "      <td>15000700</td>\n",
       "    </tr>\n",
       "    <tr>\n",
       "      <th>1</th>\n",
       "      <td>mean</td>\n",
       "      <td>6.628629402627825</td>\n",
       "    </tr>\n",
       "    <tr>\n",
       "      <th>2</th>\n",
       "      <td>stddev</td>\n",
       "      <td>671.7293482115845</td>\n",
       "    </tr>\n",
       "    <tr>\n",
       "      <th>3</th>\n",
       "      <td>min</td>\n",
       "      <td>0.0</td>\n",
       "    </tr>\n",
       "    <tr>\n",
       "      <th>4</th>\n",
       "      <td>max</td>\n",
       "      <td>332541.19</td>\n",
       "    </tr>\n",
       "  </tbody>\n",
       "</table>\n",
       "</div>"
      ],
      "text/plain": [
       "  summary      trip_distance\n",
       "0   count           15000700\n",
       "1    mean  6.628629402627825\n",
       "2  stddev  671.7293482115845\n",
       "3     min                0.0\n",
       "4     max          332541.19"
      ]
     },
     "execution_count": 74,
     "metadata": {},
     "output_type": "execute_result"
    }
   ],
   "source": [
    "combo_df.select(\"trip_distance\").describe().toPandas()"
   ]
  },
  {
   "cell_type": "code",
   "execution_count": 75,
   "id": "5ae3412f",
   "metadata": {},
   "outputs": [
    {
     "data": {
      "text/html": [
       "<div>\n",
       "<style scoped>\n",
       "    .dataframe tbody tr th:only-of-type {\n",
       "        vertical-align: middle;\n",
       "    }\n",
       "\n",
       "    .dataframe tbody tr th {\n",
       "        vertical-align: top;\n",
       "    }\n",
       "\n",
       "    .dataframe thead th {\n",
       "        text-align: right;\n",
       "    }\n",
       "</style>\n",
       "<table border=\"1\" class=\"dataframe\">\n",
       "  <thead>\n",
       "    <tr style=\"text-align: right;\">\n",
       "      <th></th>\n",
       "      <th>summary</th>\n",
       "      <th>passenger_count</th>\n",
       "    </tr>\n",
       "  </thead>\n",
       "  <tbody>\n",
       "    <tr>\n",
       "      <th>0</th>\n",
       "      <td>count</td>\n",
       "      <td>14166672</td>\n",
       "    </tr>\n",
       "    <tr>\n",
       "      <th>1</th>\n",
       "      <td>mean</td>\n",
       "      <td>1.4253783104458126</td>\n",
       "    </tr>\n",
       "    <tr>\n",
       "      <th>2</th>\n",
       "      <td>stddev</td>\n",
       "      <td>1.0443270490596768</td>\n",
       "    </tr>\n",
       "    <tr>\n",
       "      <th>3</th>\n",
       "      <td>min</td>\n",
       "      <td>0</td>\n",
       "    </tr>\n",
       "    <tr>\n",
       "      <th>4</th>\n",
       "      <td>max</td>\n",
       "      <td>9</td>\n",
       "    </tr>\n",
       "  </tbody>\n",
       "</table>\n",
       "</div>"
      ],
      "text/plain": [
       "  summary     passenger_count\n",
       "0   count            14166672\n",
       "1    mean  1.4253783104458126\n",
       "2  stddev  1.0443270490596768\n",
       "3     min                   0\n",
       "4     max                   9"
      ]
     },
     "execution_count": 75,
     "metadata": {},
     "output_type": "execute_result"
    }
   ],
   "source": [
    "combo_df.select(\"passenger_count\").describe().toPandas()"
   ]
  },
  {
   "cell_type": "code",
   "execution_count": 100,
   "id": "f12ba217",
   "metadata": {},
   "outputs": [
    {
     "name": "stdout",
     "output_type": "stream",
     "text": [
      "+-------------------+-----+\n",
      "|         date_month|trips|\n",
      "+-------------------+-----+\n",
      "|2009-01-01 00:00:00|  111|\n",
      "|2008-12-01 00:00:00|   26|\n",
      "|2020-12-01 00:00:00|   16|\n",
      "|2021-08-01 00:00:00|   36|\n",
      "|2021-12-01 00:00:00|    5|\n",
      "|2021-09-01 00:00:00|    3|\n",
      "|2021-11-01 00:00:00|    5|\n",
      "|2029-05-01 00:00:00|    1|\n",
      "|2004-04-01 00:00:00|    1|\n",
      "|2021-10-01 00:00:00|    3|\n",
      "|2002-12-01 00:00:00|    1|\n",
      "|2003-01-01 00:00:00|    1|\n",
      "+-------------------+-----+\n",
      "\n"
     ]
    }
   ],
   "source": [
    "query = \"\"\"\n",
    "SELECT\n",
    "    DATE_TRUNC('MM', c.pickup_date) AS date_month,\n",
    "    COUNT(*) as trips\n",
    "FROM\n",
    "    combo c\n",
    "WHERE\n",
    "    pickup_date <= '2020-12-31' or\n",
    "    pickup_date >= '2021-08-01'\n",
    "GROUP BY\n",
    "    date_month\n",
    "\"\"\"\n",
    "\n",
    "spark.sql(query).show()"
   ]
  },
  {
   "cell_type": "markdown",
   "id": "fa4b9a2d",
   "metadata": {},
   "source": [
    "# Data Cleaning"
   ]
  },
  {
   "cell_type": "code",
   "execution_count": 143,
   "id": "10f99b90",
   "metadata": {},
   "outputs": [],
   "source": [
    "query = \"\"\"\n",
    "SELECT\n",
    "    *\n",
    "FROM\n",
    "    combo c\n",
    "WHERE \n",
    "    c.total_amount < 10000\n",
    "    AND c.total_amount > 0\n",
    "    AND c.trip_distance < 1000\n",
    "    AND c.passenger_count < 100\n",
    "    AND c.pickup_date >= '2021-01-01'\n",
    "    AND c.pickup_date < '2021-08-01'\n",
    "\"\"\"\n",
    "combo_df = spark.sql(query)\n",
    "combo_df.createOrReplaceTempView(\"imputed_combo\")"
   ]
  },
  {
   "cell_type": "markdown",
   "id": "e33e7d9e",
   "metadata": {},
   "source": [
    "# Simple EDA"
   ]
  },
  {
   "cell_type": "code",
   "execution_count": 125,
   "id": "7890264f",
   "metadata": {},
   "outputs": [],
   "source": [
    "import numpy as np\n",
    "import pandas as pd\n",
    "import seaborn as sns\n",
    "import matplotlib.pyplot as plt\n",
    "import matplotlib.dates as mdates"
   ]
  },
  {
   "cell_type": "code",
   "execution_count": 126,
   "id": "7828778c",
   "metadata": {},
   "outputs": [],
   "source": [
    "query = \"\"\"\n",
    "SELECT\n",
    "    c.pickup_date,\n",
    "    DATE_FORMAT(c.pickup_date, 'EEEE') AS day_of_week,\n",
    "    COUNT(*) AS trips\n",
    "FROM\n",
    "    imputed_combo c\n",
    "GROUP BY\n",
    "    c.pickup_date,\n",
    "    day_of_week\n",
    "\"\"\"\n",
    "\n",
    "pd_df = spark.sql(query).toPandas()"
   ]
  },
  {
   "cell_type": "code",
   "execution_count": 127,
   "id": "667eadb1",
   "metadata": {},
   "outputs": [
    {
     "data": {
      "image/png": "[encoded data removed]",
      "text/plain": [
       "<Figure size 1152x432 with 1 Axes>"
      ]
     },
     "metadata": {
      "needs_background": "light"
     },
     "output_type": "display_data"
    }
   ],
   "source": [
    "fig, ax = plt.subplots(figsize=(16,6))\n",
    "sns.lineplot(x='pickup_date', y='trips', data=pd_df, ax=ax)\n",
    "\n",
    "ax.set_title(\"Daily Trip Count (January - July 2021)\")\n",
    "ax.set_ylabel(\"Trips\")\n",
    "ax.set_xlabel(\"Pick Up Date\")\n",
    "ax.xaxis.set_major_locator(mdates.MonthLocator())\n",
    "ax.xaxis.set_major_formatter(mdates.DateFormatter(\"%b-%Y\"))\n",
    "\n",
    "plt.show()"
   ]
  },
  {
   "cell_type": "code",
   "execution_count": 128,
   "id": "2da65202",
   "metadata": {},
   "outputs": [
    {
     "data": {
      "image/png": "[encoded data removed]",
      "text/plain": [
       "<Figure size 864x360 with 1 Axes>"
      ]
     },
     "metadata": {
      "needs_background": "light"
     },
     "output_type": "display_data"
    }
   ],
   "source": [
    "data = pd_df.groupby(\"day_of_week\").trips.median().to_frame().reset_index()\n",
    "\n",
    "data[\"sort_dow\"] = data[\"day_of_week\"].replace({\"Sunday\":0, \n",
    "                                                \"Monday\":1,\n",
    "                                                \"Tuesday\":2,\n",
    "                                                \"Wednesday\":3,\n",
    "                                                \"Thursday\":4,\n",
    "                                                \"Friday\": 5,\n",
    "                                                \"Saturday\":6})\n",
    "\n",
    "data.sort_values(by=\"sort_dow\", inplace=True)\n",
    "\n",
    "fig, ax = plt.subplots(figsize=(12,5))\n",
    "sns.barplot(x=\"day_of_week\",\n",
    "            y=\"trips\",\n",
    "            palette=[\"#f04b6b\"],\n",
    "            data=data,\n",
    "            dodge=False, ax=ax)\n",
    "\n",
    "ax.set_ylabel(\"Trip Count (K)\")\n",
    "ax.set_xlabel(\"Day\")\n",
    "\n",
    "plt.show()"
   ]
  },
  {
   "cell_type": "code",
   "execution_count": 157,
   "id": "8e967379",
   "metadata": {},
   "outputs": [],
   "source": [
    "# 시간별 택시 이용\n",
    "def get_weekday(date):\n",
    "    import calendar \n",
    "    return calendar.day_name[date.weekday()]\n",
    "\n",
    "spark.udf.register('get_weekday', get_weekday)\n",
    "\n",
    "\n",
    "query = \"\"\"\n",
    "SELECT\n",
    "    c.pickup_date,\n",
    "    get_weekday(c.pickup_date) AS day_of_week,\n",
    "    COUNT(*) AS trips\n",
    "FROM\n",
    "    imputed_combo c\n",
    "GROUP BY\n",
    "    c.pickup_date,\n",
    "    day_of_week\n",
    "\"\"\"\n",
    "\n",
    "pd_df = spark.sql(query).toPandas()"
   ]
  },
  {
   "cell_type": "code",
   "execution_count": 176,
   "id": "c3fc3c84",
   "metadata": {},
   "outputs": [],
   "source": [
    "# payments\n",
    "def parse_payment_type(payment_type):\n",
    "    payment_type_to_string = {\n",
    "        1: \"Credit Card\",\n",
    "        2: \"Cash\",\n",
    "        3: \"No Charge\",\n",
    "        4: \"Dispute\",\n",
    "        5: \"Unknown\",\n",
    "        6: \"Voided Trip\",\n",
    "    }\n",
    "    return payment_type_to_string[payment_type]\n",
    "\n",
    "spark.udf.register('parse_payment_type', parse_payment_type)\n",
    "query = \"\"\"\n",
    "SELECT\n",
    "    parse_payment_type(payment_type),\n",
    "    COUNT(*) AS trips,\n",
    "    0 AS pct_total_trip_count,\n",
    "    ROUND(MEAN(c.fare_amount), 2) AS mean_fare_amount,\n",
    "    ROUND(STD(c.fare_amount), 2) AS stdev_fare_amount\n",
    "FROM\n",
    "    imputed_combo c\n",
    "GROUP BY \n",
    "    payment_type\n",
    "\"\"\"\n",
    "\n",
    "pd_df = spark.sql(query).toPandas()"
   ]
  },
  {
   "cell_type": "code",
   "execution_count": 177,
   "id": "f35debf2",
   "metadata": {},
   "outputs": [
    {
     "data": {
      "text/html": [
       "<div>\n",
       "<style scoped>\n",
       "    .dataframe tbody tr th:only-of-type {\n",
       "        vertical-align: middle;\n",
       "    }\n",
       "\n",
       "    .dataframe tbody tr th {\n",
       "        vertical-align: top;\n",
       "    }\n",
       "\n",
       "    .dataframe thead th {\n",
       "        text-align: right;\n",
       "    }\n",
       "</style>\n",
       "<table border=\"1\" class=\"dataframe\">\n",
       "  <thead>\n",
       "    <tr style=\"text-align: right;\">\n",
       "      <th></th>\n",
       "      <th>parse_payment_type(payment_type)</th>\n",
       "      <th>trips</th>\n",
       "      <th>pct_total_trip_count</th>\n",
       "      <th>mean_fare_amount</th>\n",
       "      <th>stdev_fare_amount</th>\n",
       "    </tr>\n",
       "  </thead>\n",
       "  <tbody>\n",
       "    <tr>\n",
       "      <th>0</th>\n",
       "      <td>Credit Card</td>\n",
       "      <td>10714696</td>\n",
       "      <td>76.02</td>\n",
       "      <td>12.22</td>\n",
       "      <td>11.04</td>\n",
       "    </tr>\n",
       "    <tr>\n",
       "      <th>1</th>\n",
       "      <td>No Charge</td>\n",
       "      <td>59235</td>\n",
       "      <td>0.42</td>\n",
       "      <td>11.98</td>\n",
       "      <td>15.08</td>\n",
       "    </tr>\n",
       "    <tr>\n",
       "      <th>2</th>\n",
       "      <td>Dispute</td>\n",
       "      <td>23889</td>\n",
       "      <td>0.17</td>\n",
       "      <td>12.73</td>\n",
       "      <td>14.88</td>\n",
       "    </tr>\n",
       "    <tr>\n",
       "      <th>3</th>\n",
       "      <td>Cash</td>\n",
       "      <td>3295930</td>\n",
       "      <td>23.39</td>\n",
       "      <td>12.03</td>\n",
       "      <td>13.17</td>\n",
       "    </tr>\n",
       "    <tr>\n",
       "      <th>4</th>\n",
       "      <td>Unknown</td>\n",
       "      <td>1</td>\n",
       "      <td>0.00</td>\n",
       "      <td>17.80</td>\n",
       "      <td>NaN</td>\n",
       "    </tr>\n",
       "  </tbody>\n",
       "</table>\n",
       "</div>"
      ],
      "text/plain": [
       "  parse_payment_type(payment_type)     trips  pct_total_trip_count  \\\n",
       "0                      Credit Card  10714696                 76.02   \n",
       "1                        No Charge     59235                  0.42   \n",
       "2                          Dispute     23889                  0.17   \n",
       "3                             Cash   3295930                 23.39   \n",
       "4                          Unknown         1                  0.00   \n",
       "\n",
       "   mean_fare_amount  stdev_fare_amount  \n",
       "0             12.22              11.04  \n",
       "1             11.98              15.08  \n",
       "2             12.73              14.88  \n",
       "3             12.03              13.17  \n",
       "4             17.80                NaN  "
      ]
     },
     "execution_count": 177,
     "metadata": {},
     "output_type": "execute_result"
    }
   ],
   "source": [
    "pd_df['pct_total_trip_count'] = round((pd_df['trips']*100)/count, 2)\n",
    "pd_df"
   ]
  },
  {
   "cell_type": "code",
   "execution_count": null,
   "id": "a97b45de",
   "metadata": {},
   "outputs": [],
   "source": []
  }
 ],
 "metadata": {
  "kernelspec": {
   "display_name": "Python 3",
   "language": "python",
   "name": "python3"
  },
  "language_info": {
   "codemirror_mode": {
    "name": "ipython",
    "version": 3
   },
   "file_extension": ".py",
   "mimetype": "text/x-python",
   "name": "python",
   "nbconvert_exporter": "python",
   "pygments_lexer": "ipython3",
   "version": "3.8.8"
  }
 },
 "nbformat": 4,
 "nbformat_minor": 5
}
