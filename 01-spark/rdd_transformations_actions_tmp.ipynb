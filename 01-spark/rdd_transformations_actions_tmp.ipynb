{
 "cells": [
  {
   "cell_type": "code",
   "execution_count": 1,
   "id": "0459f754",
   "metadata": {},
   "outputs": [],
   "source": [
    "from pyspark import SparkConf, SparkContext"
   ]
  },
  {
   "cell_type": "code",
   "execution_count": 2,
   "id": "31a588cf",
   "metadata": {},
   "outputs": [],
   "source": [
    "conf = SparkConf().setMaster(\"local\").setAppName(\"transformations_actions\")\n",
    "sc = SparkContext(conf=conf)"
   ]
  },
  {
   "cell_type": "code",
   "execution_count": 3,
   "id": "eeb04a6b",
   "metadata": {},
   "outputs": [
    {
     "data": {
      "text/plain": [
       "[('spark.master', 'local'),\n",
       " ('spark.driver.port', '57093'),\n",
       " ('spark.app.id', 'local-1635982448647'),\n",
       " ('spark.rdd.compress', 'True'),\n",
       " ('spark.serializer.objectStreamReset', '100'),\n",
       " ('spark.driver.host', '172.30.1.11'),\n",
       " ('spark.submit.pyFiles', ''),\n",
       " ('spark.executor.id', 'driver'),\n",
       " ('spark.app.name', 'transformations_actions'),\n",
       " ('spark.submit.deployMode', 'client'),\n",
       " ('spark.ui.showConsoleProgress', 'true'),\n",
       " ('spark.app.startTime', '1635982447367')]"
      ]
     },
     "execution_count": 3,
     "metadata": {},
     "output_type": "execute_result"
    }
   ],
   "source": [
    "# 설정을 모두 가져오려면\n",
    "sc.getConf().getAll()"
   ]
  },
  {
   "cell_type": "code",
   "execution_count": 4,
   "id": "2635fd13",
   "metadata": {},
   "outputs": [],
   "source": [
    "# 컨택스트 사용을 멈추려면\n",
    "sc.stop()"
   ]
  },
  {
   "cell_type": "code",
   "execution_count": 6,
   "id": "c769cbac",
   "metadata": {},
   "outputs": [],
   "source": [
    "# 새로운 \n",
    "sc = SparkContext(conf=conf)"
   ]
  },
  {
   "cell_type": "code",
   "execution_count": 8,
   "id": "33f3e659",
   "metadata": {},
   "outputs": [],
   "source": [
    "# paralleize함수는 textFile과 같이 RDD를 만드는데 쓰입니다\n",
    "# parallelize 는 리스트로부터 RDD를 만든다"
   ]
  },
  {
   "cell_type": "code",
   "execution_count": 9,
   "id": "a3389b1e",
   "metadata": {},
   "outputs": [],
   "source": [
    "foods = sc.parallelize([\"짜장면\", \"마라탕\", \"짬뽕\", \"떡볶이\", \"쌀국수\", \"짬뽕\", \"짜장면\", \"짜장면\", \"짜장면\",  \"라면\", \"우동\", \"라면\"])"
   ]
  },
  {
   "cell_type": "code",
   "execution_count": 10,
   "id": "01ab169a",
   "metadata": {},
   "outputs": [
    {
     "data": {
      "text/plain": [
       "ParallelCollectionRDD[1] at readRDDFromFile at PythonRDD.scala:274"
      ]
     },
     "execution_count": 10,
     "metadata": {},
     "output_type": "execute_result"
    }
   ],
   "source": [
    "foods"
   ]
  },
  {
   "cell_type": "code",
   "execution_count": 11,
   "id": "2d367671",
   "metadata": {},
   "outputs": [
    {
     "data": {
      "text/plain": [
       "['짜장면',\n",
       " '마라탕',\n",
       " '짬뽕',\n",
       " '떡볶이',\n",
       " '쌀국수',\n",
       " '짬뽕',\n",
       " '짜장면',\n",
       " '짜장면',\n",
       " '짜장면',\n",
       " '라면',\n",
       " '우동',\n",
       " '라면',\n",
       " '치킨',\n",
       " '돈까스',\n",
       " '회',\n",
       " '햄버거',\n",
       " '피자']"
      ]
     },
     "execution_count": 11,
     "metadata": {},
     "output_type": "execute_result"
    }
   ],
   "source": [
    "foods.collect()\n",
    "# collect 액션 입니다\n",
    "# collect 액션을 통해선 벨류를 가져올 수 있는데\n",
    "# 리스트를 그대로 가져옵\n",
    "# 개발환경에서만 디버깅을 하면서 사용하고\n",
    "# 실제 프로덕션 환경에서는 쓰지 않아야 한다\n",
    "# 데이터를 모두 가져오기 때문에 \n",
    "# 너무 낭비가 되고\n",
    "# 스파크를 쓰는 의미가 없어지게 됩니다."
   ]
  },
  {
   "cell_type": "code",
   "execution_count": 12,
   "id": "6e2ee25d",
   "metadata": {},
   "outputs": [
    {
     "data": {
      "text/plain": [
       "defaultdict(int,\n",
       "            {'짜장면': 4,\n",
       "             '마라탕': 1,\n",
       "             '짬뽕': 2,\n",
       "             '떡볶이': 1,\n",
       "             '쌀국수': 1,\n",
       "             '라면': 2,\n",
       "             '우동': 1,\n",
       "             '치킨': 1,\n",
       "             '돈까스': 1,\n",
       "             '회': 1,\n",
       "             '햄버거': 1,\n",
       "             '피자': 1})"
      ]
     },
     "execution_count": 12,
     "metadata": {},
     "output_type": "execute_result"
    }
   ],
   "source": [
    "foods.countByValue()"
   ]
  },
  {
   "cell_type": "code",
   "execution_count": 17,
   "id": "da288292",
   "metadata": {},
   "outputs": [
    {
     "data": {
      "text/plain": [
       "['짜장면', '마라탕', '짬뽕']"
      ]
     },
     "execution_count": 17,
     "metadata": {},
     "output_type": "execute_result"
    }
   ],
   "source": [
    "foods.take(3)"
   ]
  },
  {
   "cell_type": "code",
   "execution_count": 19,
   "id": "58736cdb",
   "metadata": {},
   "outputs": [
    {
     "data": {
      "text/plain": [
       "'짜장면'"
      ]
     },
     "execution_count": 19,
     "metadata": {},
     "output_type": "execute_result"
    }
   ],
   "source": [
    "foods.first()"
   ]
  },
  {
   "cell_type": "code",
   "execution_count": 19,
   "id": "b7e0e28e",
   "metadata": {},
   "outputs": [
    {
     "data": {
      "text/plain": [
       "17"
      ]
     },
     "execution_count": 19,
     "metadata": {},
     "output_type": "execute_result"
    }
   ],
   "source": [
    "foods.count()"
   ]
  },
  {
   "cell_type": "code",
   "execution_count": 21,
   "id": "1d4ce278",
   "metadata": {},
   "outputs": [
    {
     "data": {
      "text/plain": [
       "['짜장면', '마라탕', '짬뽕', '떡볶이', '쌀국수', '라면', '우동', '치킨', '돈까스', '회', '햄버거', '피자']"
      ]
     },
     "execution_count": 21,
     "metadata": {},
     "output_type": "execute_result"
    }
   ],
   "source": [
    "foods.distinct().collect()"
   ]
  },
  {
   "cell_type": "code",
   "execution_count": 26,
   "id": "7db4081f",
   "metadata": {},
   "outputs": [
    {
     "data": {
      "text/plain": [
       "12"
      ]
     },
     "execution_count": 26,
     "metadata": {},
     "output_type": "execute_result"
    }
   ],
   "source": [
    "foods.distinct().count()"
   ]
  },
  {
   "cell_type": "code",
   "execution_count": 13,
   "id": "767886a7",
   "metadata": {},
   "outputs": [],
   "source": [
    "a = lambda x: print(x)"
   ]
  },
  {
   "cell_type": "code",
   "execution_count": 14,
   "id": "803a47ad",
   "metadata": {},
   "outputs": [],
   "source": [
    "data = sc.parallelize([1,2,3,4,5]).foreach(a)\n",
    "# 요소들을 꺼내서 하나의 함수를 적용시킨다\n",
    "# 값을 리턴하지 않는다\n",
    "# RDD에 연산을 하고 로그를 어딘가 저장해놓을때 유용하다"
   ]
  },
  {
   "cell_type": "code",
   "execution_count": 16,
   "id": "cf379c0e",
   "metadata": {},
   "outputs": [
    {
     "data": {
      "text/plain": [
       "[6, 5]"
      ]
     },
     "execution_count": 16,
     "metadata": {},
     "output_type": "execute_result"
    }
   ],
   "source": [
    "sc.parallelize([2, 3, 4, 5, 6], 2).top(2)"
   ]
  },
  {
   "cell_type": "code",
   "execution_count": 17,
   "id": "c378a809",
   "metadata": {},
   "outputs": [
    {
     "data": {
      "text/plain": [
       "NoneType"
      ]
     },
     "execution_count": 17,
     "metadata": {},
     "output_type": "execute_result"
    }
   ],
   "source": [
    "type(data)"
   ]
  },
  {
   "cell_type": "code",
   "execution_count": null,
   "id": "30ae41dc",
   "metadata": {},
   "outputs": [],
   "source": []
  },
  {
   "cell_type": "code",
   "execution_count": null,
   "id": "0118455d",
   "metadata": {},
   "outputs": [],
   "source": [
    "# transformations \n",
    "# 는 RDD 아웃풋\n",
    "# 프로그램이 transformation을 볼때 바로 새로운 RDD를 만들진 않습니다.\n",
    "# 새로운 알디디는 프로그램이 액션을 만나 연산을 시작할때 생깁니다.\n",
    "\n",
    "# 프로그램이 코드를 보다 transformation을 만나면\n",
    "# 신택스 체크 후 \n",
    "# 이 연산을 해야겠군 하고 기억을 한다음 넘어갑니다\n",
    "# transformations 를 여러번 거치게  될 수 있는데\n",
    "# 순서대로 변환 과정을 기억하면서 하나의 Directed Asyclic Gragh DAG 를 만들게 됩니다.\n",
    "# 방향이 있는 비순환 그래프\n",
    "# 말이 좀 어렵게 됐는데\n",
    "# 방향성을 가지고 무한정 순환하지 않는 그래프라는 뜻입니다.\n"
   ]
  },
  {
   "cell_type": "code",
   "execution_count": 101,
   "id": "24081665",
   "metadata": {},
   "outputs": [
    {
     "data": {
      "text/plain": [
       "[3, 4, 5]"
      ]
     },
     "execution_count": 101,
     "metadata": {},
     "output_type": "execute_result"
    }
   ],
   "source": [
    "sc.parallelize([1, 2, 3]).map(lambda x: x+2).collect()"
   ]
  },
  {
   "cell_type": "code",
   "execution_count": 22,
   "id": "5d635c53",
   "metadata": {},
   "outputs": [],
   "source": [
    "# narrow vs wide\n",
    "# 트랜스포메이션\n",
    "\n",
    "# Narrow 부터 알아보자"
   ]
  },
  {
   "cell_type": "code",
   "execution_count": 23,
   "id": "5aad89db",
   "metadata": {},
   "outputs": [],
   "source": [
    "sample = [5, 5, 4, 2, 3, 9, 2]\n",
    "nums = sc.parallelize(sample)"
   ]
  },
  {
   "cell_type": "code",
   "execution_count": 24,
   "id": "67fffd9d",
   "metadata": {},
   "outputs": [
    {
     "data": {
      "text/plain": [
       "ParallelCollectionRDD[19] at readRDDFromFile at PythonRDD.scala:274"
      ]
     },
     "execution_count": 24,
     "metadata": {},
     "output_type": "execute_result"
    }
   ],
   "source": [
    "nums"
   ]
  },
  {
   "cell_type": "code",
   "execution_count": 25,
   "id": "f3afe82f",
   "metadata": {},
   "outputs": [
    {
     "data": {
      "text/plain": [
       "[5, 5, 4, 2, 3, 9, 2]"
      ]
     },
     "execution_count": 25,
     "metadata": {},
     "output_type": "execute_result"
    }
   ],
   "source": [
    "nums.collect()"
   ]
  },
  {
   "cell_type": "code",
   "execution_count": 27,
   "id": "2ec2b699",
   "metadata": {},
   "outputs": [
    {
     "data": {
      "text/plain": [
       "[7, 7, 6, 4, 5, 11, 4]"
      ]
     },
     "execution_count": 27,
     "metadata": {},
     "output_type": "execute_result"
    }
   ],
   "source": [
    "nums.map(lambda x: x+2).collect()"
   ]
  },
  {
   "cell_type": "code",
   "execution_count": 28,
   "id": "988f9a54",
   "metadata": {},
   "outputs": [
    {
     "data": {
      "text/plain": [
       "[25, 25, 16, 4, 9, 81, 4]"
      ]
     },
     "execution_count": 28,
     "metadata": {},
     "output_type": "execute_result"
    }
   ],
   "source": [
    "nums.map(lambda x: x * x).collect()"
   ]
  },
  {
   "cell_type": "code",
   "execution_count": 30,
   "id": "e8be676f",
   "metadata": {},
   "outputs": [],
   "source": [
    "# flatMap RDD\n",
    "# flatMap은 리스트 안의 요소를 펼쳐볼때 쓰입니다\n",
    "# flat 하다는 이름이 그런 특징에서 오게 되고\n",
    "# 예를들어 이렇게 영화 이름 데이터가 있을때 \n",
    "# 영화 데이터를 공백을 기준으로 펼쳐볼때 쓸 수 있습니다.\n",
    "movies = [\n",
    "    \"그린 북\",\n",
    "    \"매트릭스\",\n",
    "    \"토이 스토리\",\n",
    "    \"캐스트 어웨이\",\n",
    "    \"포드 V 페라리\",\n",
    "    \"보헤미안 랩소디\",\n",
    "    \"빽 투 더 퓨처\",\n",
    "    \"반지의 제왕\",\n",
    "    \"죽은 시인의 사회\"\n",
    "]"
   ]
  },
  {
   "cell_type": "code",
   "execution_count": 31,
   "id": "c93b366d",
   "metadata": {},
   "outputs": [],
   "source": [
    "moviesRDD = sc.parallelize(movies)"
   ]
  },
  {
   "cell_type": "code",
   "execution_count": 33,
   "id": "4e22bee6",
   "metadata": {},
   "outputs": [
    {
     "data": {
      "text/plain": [
       "['그린 북',\n",
       " '매트릭스',\n",
       " '토이 스토리',\n",
       " '캐스트 어웨이',\n",
       " '포드 V 페라리',\n",
       " '보헤미안 랩소디',\n",
       " '빽 투 더 퓨처',\n",
       " '반지의 제왕',\n",
       " '죽은 시인의 사회']"
      ]
     },
     "execution_count": 33,
     "metadata": {},
     "output_type": "execute_result"
    }
   ],
   "source": [
    "moviesRDD.collect()"
   ]
  },
  {
   "cell_type": "code",
   "execution_count": 34,
   "id": "453d6a25",
   "metadata": {},
   "outputs": [
    {
     "data": {
      "text/plain": [
       "['그린',\n",
       " '북',\n",
       " '매트릭스',\n",
       " '토이',\n",
       " '스토리',\n",
       " '캐스트',\n",
       " '어웨이',\n",
       " '포드',\n",
       " 'V',\n",
       " '페라리',\n",
       " '보헤미안',\n",
       " '랩소디',\n",
       " '빽',\n",
       " '투',\n",
       " '더',\n",
       " '퓨처',\n",
       " '반지의',\n",
       " '제왕',\n",
       " '죽은',\n",
       " '시인의',\n",
       " '사회']"
      ]
     },
     "execution_count": 34,
     "metadata": {},
     "output_type": "execute_result"
    }
   ],
   "source": [
    "flatMoviesRDD = moviesRDD.flatMap(lambda x: x.split(\" \"))\n",
    "flatMoviesRDD.collect()"
   ]
  },
  {
   "cell_type": "code",
   "execution_count": 35,
   "id": "6b7ffd2a",
   "metadata": {},
   "outputs": [],
   "source": [
    "filteredRDD = flatMoviesRDD.filter(lambda x: x != \"매트릭스\")"
   ]
  },
  {
   "cell_type": "code",
   "execution_count": 36,
   "id": "51173186",
   "metadata": {},
   "outputs": [
    {
     "data": {
      "text/plain": [
       "['그린',\n",
       " '북',\n",
       " '토이',\n",
       " '스토리',\n",
       " '캐스트',\n",
       " '어웨이',\n",
       " '포드',\n",
       " 'V',\n",
       " '페라리',\n",
       " '보헤미안',\n",
       " '랩소디',\n",
       " '빽',\n",
       " '투',\n",
       " '더',\n",
       " '퓨처',\n",
       " '반지의',\n",
       " '제왕',\n",
       " '죽은',\n",
       " '시인의',\n",
       " '사회']"
      ]
     },
     "execution_count": 36,
     "metadata": {},
     "output_type": "execute_result"
    }
   ],
   "source": [
    "filteredRDD.collect()"
   ]
  },
  {
   "cell_type": "code",
   "execution_count": 37,
   "id": "28f6144a",
   "metadata": {},
   "outputs": [],
   "source": [
    "# regular expression, mumber"
   ]
  },
  {
   "cell_type": "code",
   "execution_count": null,
   "id": "2dce36fd",
   "metadata": {},
   "outputs": [],
   "source": [
    "# 그 다음엔 집합과 연관된 transforms 입니다\n",
    "# UNION, intersection, subtract"
   ]
  },
  {
   "cell_type": "code",
   "execution_count": 38,
   "id": "aba1b7aa",
   "metadata": {},
   "outputs": [],
   "source": [
    "num1 = sc.parallelize([1,2,3, 4])\n",
    "num2 = sc.parallelize([4, 5, 6, 7, 8, 9, 10])"
   ]
  },
  {
   "cell_type": "code",
   "execution_count": 41,
   "id": "37b9d62b",
   "metadata": {},
   "outputs": [],
   "source": [
    "numUnion = num1.union(num2)"
   ]
  },
  {
   "cell_type": "code",
   "execution_count": 42,
   "id": "5583bfba",
   "metadata": {},
   "outputs": [
    {
     "data": {
      "text/plain": [
       "[1, 2, 3, 4, 5, 6]"
      ]
     },
     "execution_count": 42,
     "metadata": {},
     "output_type": "execute_result"
    }
   ],
   "source": [
    "numUnion.collect()"
   ]
  },
  {
   "cell_type": "code",
   "execution_count": null,
   "id": "fd26cbc7",
   "metadata": {},
   "outputs": [],
   "source": [
    "# with replacement\n",
    "# [1,2,3]\n",
    "# [2, 3]\n",
    "# [1, 2, 3]"
   ]
  },
  {
   "cell_type": "code",
   "execution_count": 44,
   "id": "968d441c",
   "metadata": {},
   "outputs": [
    {
     "data": {
      "text/plain": [
       "[1, 1, 3]"
      ]
     },
     "execution_count": 44,
     "metadata": {},
     "output_type": "execute_result"
    }
   ],
   "source": [
    "numUnion.sample(True, .5).collect()"
   ]
  },
  {
   "cell_type": "code",
   "execution_count": 54,
   "id": "bf3f6326",
   "metadata": {},
   "outputs": [
    {
     "data": {
      "text/plain": [
       "[1, 1, 2, 4, 5, 6]"
      ]
     },
     "execution_count": 54,
     "metadata": {},
     "output_type": "execute_result"
    }
   ],
   "source": [
    "numUnion.sample(True, .5, seed=2).collect()"
   ]
  },
  {
   "cell_type": "code",
   "execution_count": 52,
   "id": "8b28c458",
   "metadata": {},
   "outputs": [
    {
     "data": {
      "text/plain": [
       "[3, 4]"
      ]
     },
     "execution_count": 52,
     "metadata": {},
     "output_type": "execute_result"
    }
   ],
   "source": [
    "numUnion.sample(True, .2).collect()"
   ]
  },
  {
   "cell_type": "code",
   "execution_count": 55,
   "id": "08ce54b6",
   "metadata": {},
   "outputs": [],
   "source": [
    "# WIDE transformations"
   ]
  },
  {
   "cell_type": "code",
   "execution_count": 76,
   "id": "07656743",
   "metadata": {},
   "outputs": [],
   "source": [
    "foods = sc.parallelize([\"짜장면\", \"마라탕\", \"짬뽕\", \"떡볶이\", \"쌀국수\", \"짬뽕\", \"짜장면\", \"짜장면\", \"짜장면\",  \"라면\", \"우동\", \"라면\", \"치킨\", \"돈까스\", \"회\", \"햄버거\", \"피자\"])"
   ]
  },
  {
   "cell_type": "code",
   "execution_count": 77,
   "id": "4e0c8a54",
   "metadata": {},
   "outputs": [],
   "source": [
    "foodsGroup = foods.groupBy(lambda x: x[0])"
   ]
  },
  {
   "cell_type": "code",
   "execution_count": 78,
   "id": "d365c9e2",
   "metadata": {},
   "outputs": [
    {
     "data": {
      "text/plain": [
       "[('짜', <pyspark.resultiterable.ResultIterable at 0x7ffce984bd60>),\n",
       " ('마', <pyspark.resultiterable.ResultIterable at 0x7ffce9852100>),\n",
       " ('짬', <pyspark.resultiterable.ResultIterable at 0x7ffce9852070>),\n",
       " ('떡', <pyspark.resultiterable.ResultIterable at 0x7ffce9852640>),\n",
       " ('쌀', <pyspark.resultiterable.ResultIterable at 0x7ffce9852670>),\n",
       " ('라', <pyspark.resultiterable.ResultIterable at 0x7ffce9852190>),\n",
       " ('우', <pyspark.resultiterable.ResultIterable at 0x7ffce9852730>),\n",
       " ('치', <pyspark.resultiterable.ResultIterable at 0x7ffce9852790>),\n",
       " ('돈', <pyspark.resultiterable.ResultIterable at 0x7ffce98527c0>),\n",
       " ('회', <pyspark.resultiterable.ResultIterable at 0x7ffce9852820>),\n",
       " ('햄', <pyspark.resultiterable.ResultIterable at 0x7ffce9852880>),\n",
       " ('피', <pyspark.resultiterable.ResultIterable at 0x7ffce98528e0>)]"
      ]
     },
     "execution_count": 78,
     "metadata": {},
     "output_type": "execute_result"
    }
   ],
   "source": [
    "foodsGroup.collect()"
   ]
  },
  {
   "cell_type": "code",
   "execution_count": 85,
   "id": "d2ae9228",
   "metadata": {},
   "outputs": [
    {
     "name": "stdout",
     "output_type": "stream",
     "text": [
      "짜 ['짜장면', '짜장면', '짜장면', '짜장면']\n",
      "마 ['마라탕']\n",
      "짬 ['짬뽕', '짬뽕']\n",
      "떡 ['떡볶이']\n",
      "쌀 ['쌀국수']\n",
      "라 ['라면', '라면']\n",
      "우 ['우동']\n",
      "치 ['치킨']\n",
      "돈 ['돈까스']\n",
      "회 ['회']\n",
      "햄 ['햄버거']\n",
      "피 ['피자']\n"
     ]
    }
   ],
   "source": [
    "result = foodsGroup.collect()\n",
    "\n",
    "for (k, v) in result:\n",
    "    print(k, list(v))"
   ]
  },
  {
   "cell_type": "code",
   "execution_count": 87,
   "id": "0158d91d",
   "metadata": {},
   "outputs": [],
   "source": [
    "nums = sc.parallelize([1,2,3,4,5,6,7,8,9,10])"
   ]
  },
  {
   "cell_type": "code",
   "execution_count": 90,
   "id": "e5d64a9d",
   "metadata": {},
   "outputs": [
    {
     "data": {
      "text/plain": [
       "[1, 3, 5, 7, 9]"
      ]
     },
     "execution_count": 90,
     "metadata": {},
     "output_type": "execute_result"
    }
   ],
   "source": [
    "list(nums.groupBy(lambda x: x % 2).collect()[0][1])"
   ]
  },
  {
   "cell_type": "code",
   "execution_count": 91,
   "id": "ef6310af",
   "metadata": {},
   "outputs": [],
   "source": [
    "# intersection"
   ]
  },
  {
   "cell_type": "code",
   "execution_count": 96,
   "id": "077dea65",
   "metadata": {},
   "outputs": [],
   "source": [
    "num1 = sc.parallelize([1, 1, 2, 3, 4, 5, 6, 6])\n",
    "num2 = sc.parallelize([4, 5, 6, 7, 8, 9, 10])"
   ]
  },
  {
   "cell_type": "code",
   "execution_count": 97,
   "id": "0aed5a94",
   "metadata": {},
   "outputs": [
    {
     "data": {
      "text/plain": [
       "[4, 6, 5]"
      ]
     },
     "execution_count": 97,
     "metadata": {},
     "output_type": "execute_result"
    }
   ],
   "source": [
    "num1.intersection(num2).collect()"
   ]
  },
  {
   "cell_type": "code",
   "execution_count": 98,
   "id": "1d2ec1a7",
   "metadata": {},
   "outputs": [
    {
     "data": {
      "text/plain": [
       "[2, 1, 1, 3]"
      ]
     },
     "execution_count": 98,
     "metadata": {},
     "output_type": "execute_result"
    }
   ],
   "source": [
    "num1.subtract(num2).collect()"
   ]
  },
  {
   "cell_type": "code",
   "execution_count": 100,
   "id": "80d24f44",
   "metadata": {},
   "outputs": [
    {
     "data": {
      "text/plain": [
       "[1, 2, 3, 4, 5, 6]"
      ]
     },
     "execution_count": 100,
     "metadata": {},
     "output_type": "execute_result"
    }
   ],
   "source": [
    "num1.distinct().collect()"
   ]
  },
  {
   "cell_type": "code",
   "execution_count": null,
   "id": "0b73eaef",
   "metadata": {},
   "outputs": [],
   "source": []
  }
 ],
 "metadata": {
  "kernelspec": {
   "display_name": "Python 3",
   "language": "python",
   "name": "python3"
  },
  "language_info": {
   "codemirror_mode": {
    "name": "ipython",
    "version": 3
   },
   "file_extension": ".py",
   "mimetype": "text/x-python",
   "name": "python",
   "nbconvert_exporter": "python",
   "pygments_lexer": "ipython3",
   "version": "3.8.8"
  }
 },
 "nbformat": 4,
 "nbformat_minor": 5
}
