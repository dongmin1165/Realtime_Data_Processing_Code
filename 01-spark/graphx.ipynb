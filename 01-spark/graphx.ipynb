{
 "cells": [
  {
   "cell_type": "code",
   "execution_count": 2,
   "id": "a883c43f",
   "metadata": {},
   "outputs": [
    {
     "ename": "ModuleNotFoundError",
     "evalue": "No module named 'graphframes'",
     "output_type": "error",
     "traceback": [
      "\u001b[0;31m---------------------------------------------------------------------------\u001b[0m",
      "\u001b[0;31mModuleNotFoundError\u001b[0m                       Traceback (most recent call last)",
      "\u001b[0;32m<ipython-input-2-734725849140>\u001b[0m in \u001b[0;36m<module>\u001b[0;34m\u001b[0m\n\u001b[1;32m      1\u001b[0m \u001b[0;32mfrom\u001b[0m \u001b[0mpyspark\u001b[0m\u001b[0;34m.\u001b[0m\u001b[0msql\u001b[0m \u001b[0;32mimport\u001b[0m \u001b[0mSparkSession\u001b[0m\u001b[0;34m\u001b[0m\u001b[0;34m\u001b[0m\u001b[0m\n\u001b[0;32m----> 2\u001b[0;31m \u001b[0;32mfrom\u001b[0m \u001b[0mgraphframes\u001b[0m \u001b[0;32mimport\u001b[0m \u001b[0mGraphFrame\u001b[0m\u001b[0;34m\u001b[0m\u001b[0;34m\u001b[0m\u001b[0m\n\u001b[0m\u001b[1;32m      3\u001b[0m \u001b[0mspark\u001b[0m \u001b[0;34m=\u001b[0m \u001b[0mSparkSession\u001b[0m\u001b[0;34m.\u001b[0m\u001b[0mbuilder\u001b[0m\u001b[0;34m.\u001b[0m\u001b[0mmaster\u001b[0m\u001b[0;34m(\u001b[0m\u001b[0;34m\"local\"\u001b[0m\u001b[0;34m)\u001b[0m\u001b[0;34m.\u001b[0m\u001b[0mappName\u001b[0m\u001b[0;34m(\u001b[0m\u001b[0;34m\"learn-sql\"\u001b[0m\u001b[0;34m)\u001b[0m\u001b[0;34m.\u001b[0m\u001b[0mgetOrCreate\u001b[0m\u001b[0;34m(\u001b[0m\u001b[0;34m)\u001b[0m\u001b[0;34m\u001b[0m\u001b[0;34m\u001b[0m\u001b[0m\n\u001b[1;32m      4\u001b[0m \u001b[0;34m\u001b[0m\u001b[0m\n\u001b[1;32m      5\u001b[0m \u001b[0;31m# Create DataFrames manually for testing purposes\u001b[0m\u001b[0;34m\u001b[0m\u001b[0;34m\u001b[0m\u001b[0;34m\u001b[0m\u001b[0m\n",
      "\u001b[0;31mModuleNotFoundError\u001b[0m: No module named 'graphframes'"
     ]
    }
   ],
   "source": [
    "from pyspark.sql import SparkSession\n",
    "from graphframes import GraphFrame\n",
    "spark = SparkSession.builder.master(\"local\").appName(\"learn-sql\").getOrCreate()\n",
    "\n",
    "# Create DataFrames manually for testing purposes\n",
    "v = spark.createDataFrame([\n",
    "    (\"A\", \"ARON\"  ,350 ),\n",
    "    (\"B\", \"BILL\"  ,360 ),\n",
    "    (\"C\", \"CLAIR\" ,195 ),\n",
    "    (\"D\", \"DANIEL\",90),\n",
    "    (\"E\", \"ERIC\"  ,90),\n",
    "    (\"F\", \"FRANK\" ,215 ),\n",
    "    (\"G\", \"GRAHAM\",30 ),\n",
    "    (\"H\", \"HENRY\" ,25 ),\n",
    "    (\"I\", \"INNA\"  ,25 ),\n",
    "    (\"J\", \"JEN\"   ,20 )\n",
    "], [\"id\", \"name\", \"total_seconds\"])\n",
    "\n",
    "e=spark.createDataFrame([\n",
    "    (\"A\", \"B\", 60),\n",
    "    (\"B\", \"A\", 50),\n",
    "    (\"A\", \"C\", 50),\n",
    "    (\"C\", \"A\", 100),\n",
    "    (\"A\", \"D\", 90),\n",
    "    (\"C\", \"I\", 25),\n",
    "    (\"C\", \"J\", 20),\n",
    "    (\"B\", \"F\", 50),\n",
    "    (\"F\", \"B\", 110),\n",
    "    (\"F\", \"G\", 30),\n",
    "    (\"F\", \"H\", 25),\n",
    "    (\"B\", \"E\", 90)\n",
    "],[\"src\",\"dst\",\"relationship\"])\n",
    "\n",
    "# Now lets construct the graph\n",
    "g = GraphFrame(v,e)"
   ]
  },
  {
   "cell_type": "code",
   "execution_count": null,
   "id": "e94db3d1",
   "metadata": {},
   "outputs": [],
   "source": []
  }
 ],
 "metadata": {
  "kernelspec": {
   "display_name": "Python 3",
   "language": "python",
   "name": "python3"
  },
  "language_info": {
   "codemirror_mode": {
    "name": "ipython",
    "version": 3
   },
   "file_extension": ".py",
   "mimetype": "text/x-python",
   "name": "python",
   "nbconvert_exporter": "python",
   "pygments_lexer": "ipython3",
   "version": "3.8.8"
  }
 },
 "nbformat": 4,
 "nbformat_minor": 5
}
