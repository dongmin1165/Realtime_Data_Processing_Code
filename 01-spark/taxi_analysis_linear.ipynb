{
 "cells": [
  {
   "cell_type": "markdown",
   "id": "0db10dd8",
   "metadata": {},
   "source": [
    "# from pyspark.sql import SparkSession"
   ]
  },
  {
   "cell_type": "code",
   "execution_count": 45,
   "id": "67adac20",
   "metadata": {},
   "outputs": [],
   "source": [
    "MAX_MEMORY = \"5g\"\n",
    "spark = SparkSession.builder.appName(\"trip_count_by_zone_sql\")\\\n",
    "    .config(\"spark.executor.memory\", MAX_MEMORY)\\\n",
    "    .config(\"spark.driver.memory\", MAX_MEMORY)\\\n",
    "    .getOrCreate()"
   ]
  },
  {
   "cell_type": "code",
   "execution_count": 46,
   "id": "2fa431b8",
   "metadata": {},
   "outputs": [],
   "source": [
    "trip_files = \"/Users/keon/fastcampus/data-engineering/01-spark/data/trips/*\""
   ]
  },
  {
   "cell_type": "code",
   "execution_count": 47,
   "id": "25268510",
   "metadata": {},
   "outputs": [],
   "source": [
    "trips_df = spark.read.csv(f\"file:///{trip_files}\", inferSchema = True, header = True)"
   ]
  },
  {
   "cell_type": "code",
   "execution_count": 48,
   "id": "c6dffc56",
   "metadata": {},
   "outputs": [
    {
     "name": "stdout",
     "output_type": "stream",
     "text": [
      "root\n",
      " |-- VendorID: integer (nullable = true)\n",
      " |-- tpep_pickup_datetime: string (nullable = true)\n",
      " |-- tpep_dropoff_datetime: string (nullable = true)\n",
      " |-- passenger_count: integer (nullable = true)\n",
      " |-- trip_distance: double (nullable = true)\n",
      " |-- RatecodeID: integer (nullable = true)\n",
      " |-- store_and_fwd_flag: string (nullable = true)\n",
      " |-- PULocationID: integer (nullable = true)\n",
      " |-- DOLocationID: integer (nullable = true)\n",
      " |-- payment_type: integer (nullable = true)\n",
      " |-- fare_amount: double (nullable = true)\n",
      " |-- extra: double (nullable = true)\n",
      " |-- mta_tax: double (nullable = true)\n",
      " |-- tip_amount: double (nullable = true)\n",
      " |-- tolls_amount: double (nullable = true)\n",
      " |-- improvement_surcharge: double (nullable = true)\n",
      " |-- total_amount: double (nullable = true)\n",
      " |-- congestion_surcharge: double (nullable = true)\n",
      "\n"
     ]
    }
   ],
   "source": [
    "trips_df.printSchema()"
   ]
  },
  {
   "cell_type": "code",
   "execution_count": 7,
   "id": "2255f6fc",
   "metadata": {},
   "outputs": [],
   "source": [
    "trips_df.createOrReplaceTempView(\"trips\")"
   ]
  },
  {
   "cell_type": "code",
   "execution_count": 63,
   "id": "1bba6eef",
   "metadata": {},
   "outputs": [],
   "source": [
    "query = \"\"\"\n",
    "    SELECT \n",
    "        trip_distance,\n",
    "        duration_sec\n",
    "    FROM \n",
    "    (SELECT \n",
    "        *,\n",
    "        TO_DATE(t.tpep_pickup_datetime) as pickup_date,\n",
    "        UNIX_TIMESTAMP(t.tpep_dropoff_datetime) - UNIX_TIMESTAMP(t.tpep_pickup_datetime) as duration_sec\n",
    "    FROM \n",
    "        trips t)\n",
    "    WHERE\n",
    "        total_amount < 5000\n",
    "        AND total_amount > 0\n",
    "        AND trip_distance < 500\n",
    "        AND passenger_count < 4\n",
    "        AND pickup_date >= '2021-01-01'\n",
    "        AND pickup_date < '2021-08-01'\n",
    "        AND trip_distance > 0\n",
    "        AND duration_sec > 0\n",
    "\"\"\"\n",
    "training = spark.sql(query)\n",
    "training.createOrReplaceTempView(\"training\")"
   ]
  },
  {
   "cell_type": "code",
   "execution_count": 64,
   "id": "6a69592e",
   "metadata": {},
   "outputs": [
    {
     "name": "stdout",
     "output_type": "stream",
     "text": [
      "+-------------+------------+\n",
      "|trip_distance|duration_sec|\n",
      "+-------------+------------+\n",
      "|          2.1|         362|\n",
      "|          0.2|          59|\n",
      "|         14.7|        1656|\n",
      "|         10.6|         913|\n",
      "|         4.94|         992|\n",
      "|          1.6|         481|\n",
      "|          4.1|        1020|\n",
      "|          5.7|        1085|\n",
      "|          9.1|        1257|\n",
      "|          2.7|         814|\n",
      "|         6.11|        1335|\n",
      "|         1.21|         429|\n",
      "|          7.4|        1332|\n",
      "|          1.7|         466|\n",
      "|         0.81|         133|\n",
      "|         1.01|         247|\n",
      "|         0.73|         299|\n",
      "|         1.17|         297|\n",
      "|         0.78|         217|\n",
      "|         1.66|         514|\n",
      "+-------------+------------+\n",
      "only showing top 20 rows\n",
      "\n"
     ]
    }
   ],
   "source": [
    "combo_df.show()"
   ]
  },
  {
   "cell_type": "markdown",
   "id": "e33e7d9e",
   "metadata": {},
   "source": [
    "# ML"
   ]
  },
  {
   "cell_type": "code",
   "execution_count": 65,
   "id": "a97b45de",
   "metadata": {},
   "outputs": [
    {
     "name": "stdout",
     "output_type": "stream",
     "text": [
      "Train set count:  11133546\n",
      "Test set count: 2784251\n"
     ]
    }
   ],
   "source": [
    "train_df, test_df = model_df.randomSplit([0.8, 0.2], seed=2019)\n",
    "# toy_df = train_df.sample(False, .1, seed=261)\n",
    "print(\"Train set count: \", train_df.count())\n",
    "print(\"Test set count:\", test_df.count())"
   ]
  },
  {
   "cell_type": "code",
   "execution_count": 66,
   "id": "04f89687",
   "metadata": {},
   "outputs": [
    {
     "name": "stdout",
     "output_type": "stream",
     "text": [
      "+-------------+------------+--------+\n",
      "|trip_distance|duration_sec|features|\n",
      "+-------------+------------+--------+\n",
      "|         0.01|           2|  [0.01]|\n",
      "|         0.01|           2|  [0.01]|\n",
      "|         0.01|           2|  [0.01]|\n",
      "|         0.01|           2|  [0.01]|\n",
      "|         0.01|           2|  [0.01]|\n",
      "|         0.01|           2|  [0.01]|\n",
      "|         0.01|           2|  [0.01]|\n",
      "|         0.01|           2|  [0.01]|\n",
      "|         0.01|           2|  [0.01]|\n",
      "|         0.01|           3|  [0.01]|\n",
      "|         0.01|           3|  [0.01]|\n",
      "|         0.01|           3|  [0.01]|\n",
      "|         0.01|           3|  [0.01]|\n",
      "|         0.01|           3|  [0.01]|\n",
      "|         0.01|           3|  [0.01]|\n",
      "|         0.01|           3|  [0.01]|\n",
      "|         0.01|           3|  [0.01]|\n",
      "|         0.01|           3|  [0.01]|\n",
      "|         0.01|           4|  [0.01]|\n",
      "|         0.01|           4|  [0.01]|\n",
      "+-------------+------------+--------+\n",
      "only showing top 20 rows\n",
      "\n"
     ]
    }
   ],
   "source": [
    "from pyspark.ml.feature import VectorAssembler\n",
    "# VectorAssembler 여러개의 값을 하나로\n",
    "vassembler = VectorAssembler(inputCols = ['trip_distance'], outputCol = 'features')\n",
    "vtrain_df = vassembler.transform(train_df)\n",
    "vtrain_df.show()"
   ]
  },
  {
   "cell_type": "code",
   "execution_count": 67,
   "id": "2649a62b",
   "metadata": {},
   "outputs": [],
   "source": [
    "from pyspark.ml.regression import LinearRegression"
   ]
  },
  {
   "cell_type": "code",
   "execution_count": 68,
   "id": "fd2b5292",
   "metadata": {},
   "outputs": [],
   "source": [
    "lr = LinearRegression(maxIter=100,\n",
    "                      labelCol=\"duration_sec\",\n",
    "                      featuresCol=\"features\")"
   ]
  },
  {
   "cell_type": "code",
   "execution_count": 69,
   "id": "2b9cf39d",
   "metadata": {},
   "outputs": [],
   "source": [
    "model = lr.fit(vtrain_df)"
   ]
  },
  {
   "cell_type": "code",
   "execution_count": 70,
   "id": "361c6c4e",
   "metadata": {},
   "outputs": [],
   "source": [
    "from pyspark.ml.evaluation import RegressionEvaluator"
   ]
  },
  {
   "cell_type": "code",
   "execution_count": 71,
   "id": "7a8f58cc",
   "metadata": {},
   "outputs": [],
   "source": [
    "transformed_test_df = vassembler.transform(test_df)\n",
    "transformed_test_df = transformed_test_df.select(\"duration_sec\", \"features\").cache()\n",
    "transformed_test_df = model.transform(transformed_test_df).cache()"
   ]
  },
  {
   "cell_type": "code",
   "execution_count": 72,
   "id": "3cc35529",
   "metadata": {},
   "outputs": [
    {
     "name": "stdout",
     "output_type": "stream",
     "text": [
      "RMSE of Prediction on test set: 3635.8085573768494\n"
     ]
    }
   ],
   "source": [
    "evaluator = RegressionEvaluator(\n",
    "    labelCol=\"duration_sec\",\n",
    "    metricName=\"rmse\"\n",
    ")\n",
    "rmse = evaluator.evaluate(transformed_test_df)\n",
    "print(\"RMSE of Prediction on test set:\", rmse)"
   ]
  },
  {
   "cell_type": "code",
   "execution_count": 73,
   "id": "86cfb62c",
   "metadata": {},
   "outputs": [
    {
     "name": "stdout",
     "output_type": "stream",
     "text": [
      "+------------+--------+-----------------+\n",
      "|duration_sec|features|       prediction|\n",
      "+------------+--------+-----------------+\n",
      "|           2|  [0.01]|577.0987407056483|\n",
      "|           3|  [0.01]|577.0987407056483|\n",
      "|           3|  [0.01]|577.0987407056483|\n",
      "|           3|  [0.01]|577.0987407056483|\n",
      "|           4|  [0.01]|577.0987407056483|\n",
      "|           4|  [0.01]|577.0987407056483|\n",
      "|           4|  [0.01]|577.0987407056483|\n",
      "|           4|  [0.01]|577.0987407056483|\n",
      "|           4|  [0.01]|577.0987407056483|\n",
      "|           4|  [0.01]|577.0987407056483|\n",
      "|           4|  [0.01]|577.0987407056483|\n",
      "|           5|  [0.01]|577.0987407056483|\n",
      "|           5|  [0.01]|577.0987407056483|\n",
      "|           5|  [0.01]|577.0987407056483|\n",
      "|           5|  [0.01]|577.0987407056483|\n",
      "|           6|  [0.01]|577.0987407056483|\n",
      "|           7|  [0.01]|577.0987407056483|\n",
      "|           7|  [0.01]|577.0987407056483|\n",
      "|           7|  [0.01]|577.0987407056483|\n",
      "|           7|  [0.01]|577.0987407056483|\n",
      "+------------+--------+-----------------+\n",
      "only showing top 20 rows\n",
      "\n"
     ]
    }
   ],
   "source": [
    "transformed_test_df.show()"
   ]
  },
  {
   "cell_type": "code",
   "execution_count": 74,
   "id": "1742116e",
   "metadata": {},
   "outputs": [],
   "source": [
    "from pyspark.sql.types import DoubleType\n",
    "\n",
    "distance_list = [100., 1000.]\n",
    "distances_df = spark.createDataFrame(distance_list, DoubleType()).toDF('trip_distance')\n"
   ]
  },
  {
   "cell_type": "code",
   "execution_count": 75,
   "id": "567a4dd9",
   "metadata": {},
   "outputs": [],
   "source": [
    "vdistances_df = vassembler.transform(distances_df)"
   ]
  },
  {
   "cell_type": "code",
   "execution_count": 76,
   "id": "2b42503e",
   "metadata": {},
   "outputs": [
    {
     "name": "stdout",
     "output_type": "stream",
     "text": [
      "+-------------+--------+------------------+\n",
      "|trip_distance|features|        prediction|\n",
      "+-------------+--------+------------------+\n",
      "|        100.0| [100.0]| 12432.59504771289|\n",
      "|       1000.0|[1000.0]|119142.73282455574|\n",
      "+-------------+--------+------------------+\n",
      "\n"
     ]
    }
   ],
   "source": [
    "model.transform(vdistances_df).show()"
   ]
  },
  {
   "cell_type": "code",
   "execution_count": 80,
   "id": "4d0d7ef5",
   "metadata": {},
   "outputs": [
    {
     "data": {
      "text/plain": [
       "3.4534986243646917"
      ]
     },
     "execution_count": 80,
     "metadata": {},
     "output_type": "execute_result"
    }
   ],
   "source": [
    "12432.59504771289 / 60 / 60"
   ]
  },
  {
   "cell_type": "code",
   "execution_count": null,
   "id": "827872a0",
   "metadata": {},
   "outputs": [],
   "source": []
  }
 ],
 "metadata": {
  "kernelspec": {
   "display_name": "Python 3",
   "language": "python",
   "name": "python3"
  },
  "language_info": {
   "codemirror_mode": {
    "name": "ipython",
    "version": 3
   },
   "file_extension": ".py",
   "mimetype": "text/x-python",
   "name": "python",
   "nbconvert_exporter": "python",
   "pygments_lexer": "ipython3",
   "version": "3.8.8"
  }
 },
 "nbformat": 4,
 "nbformat_minor": 5
}
