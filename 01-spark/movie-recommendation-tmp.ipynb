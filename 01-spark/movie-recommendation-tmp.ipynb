{
 "cells": [
  {
   "cell_type": "code",
   "execution_count": 1,
   "id": "67340eca",
   "metadata": {},
   "outputs": [],
   "source": [
    "from pyspark.sql import SparkSession"
   ]
  },
  {
   "cell_type": "code",
   "execution_count": 2,
   "id": "b6f1cabc",
   "metadata": {},
   "outputs": [],
   "source": [
    "MAX_MEMORY = \"5g\"\n",
    "spark = SparkSession.builder.appName(\"movie-rec\")\\\n",
    "    .config(\"spark.executor.memory\", MAX_MEMORY)\\\n",
    "    .config(\"spark.driver.memory\", MAX_MEMORY)\\\n",
    "    .getOrCreate()"
   ]
  },
  {
   "cell_type": "code",
   "execution_count": 3,
   "id": "4d7c4603",
   "metadata": {},
   "outputs": [],
   "source": [
    "ratings_file = \"/Users/keon/fastcampus/data-engineering/01-spark/data/ml-25m/ratings.csv\" \n",
    "ratings_df = spark.read.csv(f\"file:///{ratings_file}\", inferSchema = True, header = True)"
   ]
  },
  {
   "cell_type": "code",
   "execution_count": 4,
   "id": "73568b79",
   "metadata": {},
   "outputs": [
    {
     "name": "stdout",
     "output_type": "stream",
     "text": [
      "+------+-------+------+----------+\n",
      "|userId|movieId|rating| timestamp|\n",
      "+------+-------+------+----------+\n",
      "|     1|    296|   5.0|1147880044|\n",
      "|     1|    306|   3.5|1147868817|\n",
      "|     1|    307|   5.0|1147868828|\n",
      "|     1|    665|   5.0|1147878820|\n",
      "|     1|    899|   3.5|1147868510|\n",
      "|     1|   1088|   4.0|1147868495|\n",
      "|     1|   1175|   3.5|1147868826|\n",
      "|     1|   1217|   3.5|1147878326|\n",
      "|     1|   1237|   5.0|1147868839|\n",
      "|     1|   1250|   4.0|1147868414|\n",
      "|     1|   1260|   3.5|1147877857|\n",
      "|     1|   1653|   4.0|1147868097|\n",
      "|     1|   2011|   2.5|1147868079|\n",
      "|     1|   2012|   2.5|1147868068|\n",
      "|     1|   2068|   2.5|1147869044|\n",
      "|     1|   2161|   3.5|1147868609|\n",
      "|     1|   2351|   4.5|1147877957|\n",
      "|     1|   2573|   4.0|1147878923|\n",
      "|     1|   2632|   5.0|1147878248|\n",
      "|     1|   2692|   5.0|1147869100|\n",
      "+------+-------+------+----------+\n",
      "only showing top 20 rows\n",
      "\n"
     ]
    }
   ],
   "source": [
    "ratings_df.show()"
   ]
  },
  {
   "cell_type": "code",
   "execution_count": 5,
   "id": "43def6b9",
   "metadata": {},
   "outputs": [
    {
     "name": "stdout",
     "output_type": "stream",
     "text": [
      "+------+-------+------+\n",
      "|userId|movieId|rating|\n",
      "+------+-------+------+\n",
      "|     1|    296|   5.0|\n",
      "|     1|    306|   3.5|\n",
      "|     1|    307|   5.0|\n",
      "|     1|    665|   5.0|\n",
      "|     1|    899|   3.5|\n",
      "|     1|   1088|   4.0|\n",
      "|     1|   1175|   3.5|\n",
      "|     1|   1217|   3.5|\n",
      "|     1|   1237|   5.0|\n",
      "|     1|   1250|   4.0|\n",
      "|     1|   1260|   3.5|\n",
      "|     1|   1653|   4.0|\n",
      "|     1|   2011|   2.5|\n",
      "|     1|   2012|   2.5|\n",
      "|     1|   2068|   2.5|\n",
      "|     1|   2161|   3.5|\n",
      "|     1|   2351|   4.5|\n",
      "|     1|   2573|   4.0|\n",
      "|     1|   2632|   5.0|\n",
      "|     1|   2692|   5.0|\n",
      "+------+-------+------+\n",
      "only showing top 20 rows\n",
      "\n"
     ]
    }
   ],
   "source": [
    "ratings_df = ratings_df.select([\"userId\", \"movieId\", \"rating\"])\n",
    "ratings_df.show()"
   ]
  },
  {
   "cell_type": "code",
   "execution_count": 6,
   "id": "a7759a88",
   "metadata": {},
   "outputs": [
    {
     "name": "stdout",
     "output_type": "stream",
     "text": [
      "root\n",
      " |-- userId: integer (nullable = true)\n",
      " |-- movieId: integer (nullable = true)\n",
      " |-- rating: double (nullable = true)\n",
      "\n"
     ]
    }
   ],
   "source": [
    "ratings_df.printSchema()"
   ]
  },
  {
   "cell_type": "code",
   "execution_count": 7,
   "id": "e871c9ab",
   "metadata": {},
   "outputs": [
    {
     "name": "stdout",
     "output_type": "stream",
     "text": [
      "+-------+------------------+\n",
      "|summary|            rating|\n",
      "+-------+------------------+\n",
      "|  count|          25000095|\n",
      "|   mean| 3.533854451353085|\n",
      "| stddev|1.0607439611423535|\n",
      "|    min|               0.5|\n",
      "|    max|               5.0|\n",
      "+-------+------------------+\n",
      "\n"
     ]
    }
   ],
   "source": [
    "ratings_df.select(\"rating\").describe().show()"
   ]
  },
  {
   "cell_type": "code",
   "execution_count": 8,
   "id": "f921ba19",
   "metadata": {},
   "outputs": [],
   "source": [
    "(train_df, test_df) = ratings_df.randomSplit([0.8, 0.2])"
   ]
  },
  {
   "cell_type": "code",
   "execution_count": 9,
   "id": "628e7b5c",
   "metadata": {},
   "outputs": [],
   "source": [
    "# maxIter: 반복 수 \n",
    "# regParam: regularization prarmeter (default 1.0)\n",
    "# coldStartStrategy: 학습하지 못한 데이터에 어떻게 대처할지 선택 (drop vs nan)\n",
    "from pyspark.ml.recommendation import ALS\n",
    "\n",
    "als = ALS(maxIter=5, \n",
    "          regParam=0.1, \n",
    "          userCol='userId', \n",
    "          itemCol='movieId', \n",
    "          ratingCol='rating',\n",
    "          coldStartStrategy='drop')"
   ]
  },
  {
   "cell_type": "code",
   "execution_count": 10,
   "id": "bf765daf",
   "metadata": {},
   "outputs": [],
   "source": [
    "model = als.fit(train_df)"
   ]
  },
  {
   "cell_type": "code",
   "execution_count": 12,
   "id": "be8da896",
   "metadata": {},
   "outputs": [],
   "source": [
    "predictions = model.transform(test_df)"
   ]
  },
  {
   "cell_type": "code",
   "execution_count": 13,
   "id": "a50a6bbc",
   "metadata": {},
   "outputs": [
    {
     "name": "stdout",
     "output_type": "stream",
     "text": [
      "+------+-------+------+----------+\n",
      "|userId|movieId|rating|prediction|\n",
      "+------+-------+------+----------+\n",
      "|    31|   1580|   3.0| 2.3412633|\n",
      "|    31|   3175|   1.5| 2.4575193|\n",
      "|   101|   8638|   5.0| 3.5509882|\n",
      "|   137|   1645|   3.0|  3.078713|\n",
      "|   155|   1580|   2.5| 3.4677393|\n",
      "|   243|   1580|   3.0|  2.746449|\n",
      "|   243|  44022|   3.0| 2.4469478|\n",
      "|   322|    463|   3.0| 3.3249109|\n",
      "|   368|   3175|   5.0| 3.6138074|\n",
      "|   385|   1088|   3.0| 3.2864473|\n",
      "|   588|   1645|   2.5| 2.7411766|\n",
      "|   596|   1580|   3.0| 3.5674548|\n",
      "|   597|   1645|   5.0| 3.5412421|\n",
      "|   597|   3175|   5.0| 3.8528943|\n",
      "|   613|   1580|   3.0| 3.3705337|\n",
      "|   633|   1591|   5.0|  3.303601|\n",
      "|   642|   1580|   3.5| 3.4872642|\n",
      "|   756|   1580|   4.0| 3.5168695|\n",
      "|   756|  44022|   3.5| 3.1852522|\n",
      "|   772|    471|   4.0| 3.4680028|\n",
      "+------+-------+------+----------+\n",
      "only showing top 20 rows\n",
      "\n"
     ]
    }
   ],
   "source": [
    "predictions.show()"
   ]
  },
  {
   "cell_type": "code",
   "execution_count": 15,
   "id": "d6151efd",
   "metadata": {},
   "outputs": [
    {
     "name": "stdout",
     "output_type": "stream",
     "text": [
      "+-------+------------------+------------------+\n",
      "|summary|            rating|        prediction|\n",
      "+-------+------------------+------------------+\n",
      "|  count|           5000395|           5000395|\n",
      "|   mean|3.5343617854189517| 3.435012802644237|\n",
      "| stddev| 1.060628011981919|0.6466347894252432|\n",
      "|    min|               0.5|        -1.5015955|\n",
      "|    max|               5.0|         6.5376873|\n",
      "+-------+------------------+------------------+\n",
      "\n"
     ]
    }
   ],
   "source": [
    "predictions.select('rating', 'prediction').describe().show()"
   ]
  },
  {
   "cell_type": "code",
   "execution_count": 17,
   "id": "ab90e431",
   "metadata": {},
   "outputs": [
    {
     "name": "stdout",
     "output_type": "stream",
     "text": [
      "0.8113079596776658\n"
     ]
    }
   ],
   "source": [
    "# Root Mean Square Error\n",
    "from pyspark.ml.evaluation import RegressionEvaluator\n",
    "\n",
    "evaluator = RegressionEvaluator(metricName='rmse', \n",
    "                                labelCol='rating',\n",
    "                                predictionCol='prediction')\n",
    "\n",
    "rmse = evaluator.evaluate(predictions)\n",
    "print(rmse)"
   ]
  },
  {
   "cell_type": "code",
   "execution_count": 18,
   "id": "a3b6c212",
   "metadata": {},
   "outputs": [
    {
     "name": "stderr",
     "output_type": "stream",
     "text": [
      "/Users/keon/opt/anaconda3/lib/python3.8/site-packages/pyspark/sql/context.py:125: FutureWarning: Deprecated in 3.0.0. Use SparkSession.builder.getOrCreate() instead.\n",
      "  warnings.warn(\n"
     ]
    },
    {
     "name": "stdout",
     "output_type": "stream",
     "text": [
      "+------+--------------------+\n",
      "|userId|     recommendations|\n",
      "+------+--------------------+\n",
      "|    28|[{194434, 7.51302...|\n",
      "|    31|[{203882, 3.77619...|\n",
      "|    34|[{139036, 6.48936...|\n",
      "|    53|[{194334, 6.63180...|\n",
      "|    65|[{144202, 6.29712...|\n",
      "|    78|[{139036, 6.97625...|\n",
      "|    81|[{173871, 4.68658...|\n",
      "|    85|[{201821, 5.79802...|\n",
      "|   101|[{203086, 5.04414...|\n",
      "|   108|[{194434, 5.66323...|\n",
      "|   115|[{203882, 6.04178...|\n",
      "|   126|[{203882, 6.18815...|\n",
      "|   133|[{194434, 5.66756...|\n",
      "|   137|[{203086, 5.47062...|\n",
      "|   148|[{194434, 5.94313...|\n",
      "|   155|[{194434, 6.07637...|\n",
      "|   183|[{194434, 5.92454...|\n",
      "|   193|[{194434, 5.53216...|\n",
      "|   210|[{139036, 9.06887...|\n",
      "|   211|[{194434, 6.29485...|\n",
      "+------+--------------------+\n",
      "only showing top 20 rows\n",
      "\n"
     ]
    }
   ],
   "source": [
    "userRecsAll = model.recommendForAllUsers(3)\n",
    "userRecsAll.show()"
   ]
  },
  {
   "cell_type": "code",
   "execution_count": 19,
   "id": "9aa9c7ac",
   "metadata": {},
   "outputs": [
    {
     "name": "stdout",
     "output_type": "stream",
     "text": [
      "+-------+--------------------+\n",
      "|movieId|     recommendations|\n",
      "+-------+--------------------+\n",
      "|     28|[{115651, 5.99797...|\n",
      "|     31|[{87426, 5.399622...|\n",
      "|     34|[{115651, 5.65836...|\n",
      "|     53|[{115651, 6.28357...|\n",
      "|     65|[{87426, 5.520707...|\n",
      "|     78|[{87426, 4.701583...|\n",
      "|     81|[{87426, 4.836845...|\n",
      "|     85|[{115651, 5.37445...|\n",
      "|    101|[{115651, 5.24595...|\n",
      "|    108|[{81029, 4.957504...|\n",
      "|    115|[{115651, 5.93916...|\n",
      "|    126|[{87426, 4.905772...|\n",
      "|    133|[{108346, 5.35546...|\n",
      "|    137|[{115651, 5.20377...|\n",
      "|    148|[{115651, 4.30622...|\n",
      "|    155|[{105801, 5.03672...|\n",
      "|    183|[{87426, 5.213244...|\n",
      "|    193|[{87426, 5.025292...|\n",
      "|    210|[{87426, 4.675188...|\n",
      "|    211|[{115651, 5.24861...|\n",
      "+-------+--------------------+\n",
      "only showing top 20 rows\n",
      "\n"
     ]
    }
   ],
   "source": [
    "movieRecsAll = model.recommendForAllItems(3)\n",
    "movieRecsAll.show()"
   ]
  },
  {
   "cell_type": "code",
   "execution_count": 21,
   "id": "125d88a7",
   "metadata": {},
   "outputs": [
    {
     "data": {
      "text/plain": [
       "[Row(userId=148), Row(userId=463), Row(userId=267)]"
      ]
     },
     "execution_count": 21,
     "metadata": {},
     "output_type": "execute_result"
    }
   ],
   "source": [
    "from pyspark.sql.types import IntegerType\n",
    "\n",
    "# Generally we dont need to look for all user\n",
    "# Create a list of users, whom we want to recommend\n",
    "user_list = [148, 463, 267]\n",
    "users_df = spark.createDataFrame(user_list, IntegerType()).toDF('userId')\n",
    "\n",
    "users_df.take(3)"
   ]
  },
  {
   "cell_type": "code",
   "execution_count": 24,
   "id": "eab941a2",
   "metadata": {},
   "outputs": [
    {
     "name": "stderr",
     "output_type": "stream",
     "text": [
      "/Users/keon/opt/anaconda3/lib/python3.8/site-packages/pyspark/sql/context.py:125: FutureWarning: Deprecated in 3.0.0. Use SparkSession.builder.getOrCreate() instead.\n",
      "  warnings.warn(\n"
     ]
    },
    {
     "data": {
      "text/html": [
       "<div>\n",
       "<style scoped>\n",
       "    .dataframe tbody tr th:only-of-type {\n",
       "        vertical-align: middle;\n",
       "    }\n",
       "\n",
       "    .dataframe tbody tr th {\n",
       "        vertical-align: top;\n",
       "    }\n",
       "\n",
       "    .dataframe thead th {\n",
       "        text-align: right;\n",
       "    }\n",
       "</style>\n",
       "<table border=\"1\" class=\"dataframe\">\n",
       "  <thead>\n",
       "    <tr style=\"text-align: right;\">\n",
       "      <th></th>\n",
       "      <th>userId</th>\n",
       "      <th>recommendations</th>\n",
       "    </tr>\n",
       "  </thead>\n",
       "  <tbody>\n",
       "    <tr>\n",
       "      <th>0</th>\n",
       "      <td>148</td>\n",
       "      <td>[(194434, 5.943130970001221), (183947, 5.56757...</td>\n",
       "    </tr>\n",
       "    <tr>\n",
       "      <th>1</th>\n",
       "      <td>463</td>\n",
       "      <td>[(194434, 6.498035430908203), (201821, 6.13922...</td>\n",
       "    </tr>\n",
       "    <tr>\n",
       "      <th>2</th>\n",
       "      <td>267</td>\n",
       "      <td>[(194434, 5.766074180603027), (151989, 5.49247...</td>\n",
       "    </tr>\n",
       "  </tbody>\n",
       "</table>\n",
       "</div>"
      ],
      "text/plain": [
       "   userId                                    recommendations\n",
       "0     148  [(194434, 5.943130970001221), (183947, 5.56757...\n",
       "1     463  [(194434, 6.498035430908203), (201821, 6.13922...\n",
       "2     267  [(194434, 5.766074180603027), (151989, 5.49247..."
      ]
     },
     "execution_count": 24,
     "metadata": {},
     "output_type": "execute_result"
    }
   ],
   "source": [
    "# top 5 rec for subsets\n",
    "user_recs = model.recommendForUserSubset(users_df, 5)\n",
    "user_recs.toPandas()"
   ]
  },
  {
   "cell_type": "code",
   "execution_count": 30,
   "id": "f8b53bbb",
   "metadata": {},
   "outputs": [
    {
     "data": {
      "text/plain": [
       "[Row(movieId=194434, rating=5.943130970001221),\n",
       " Row(movieId=183947, rating=5.567570209503174),\n",
       " Row(movieId=203882, rating=5.5637102127075195),\n",
       " Row(movieId=166790, rating=5.414093017578125),\n",
       " Row(movieId=203086, rating=5.393131256103516)]"
      ]
     },
     "execution_count": 30,
     "metadata": {},
     "output_type": "execute_result"
    }
   ],
   "source": [
    "# extract movies\n",
    "movies_list = user_recs.collect()[0].recommendations\n",
    "movies_list"
   ]
  },
  {
   "cell_type": "code",
   "execution_count": 33,
   "id": "59446f15",
   "metadata": {},
   "outputs": [
    {
     "name": "stdout",
     "output_type": "stream",
     "text": [
      "+-------+------------------+\n",
      "|movieId|            rating|\n",
      "+-------+------------------+\n",
      "| 194434| 5.943130970001221|\n",
      "| 183947| 5.567570209503174|\n",
      "| 203882|5.5637102127075195|\n",
      "| 166790| 5.414093017578125|\n",
      "| 203086| 5.393131256103516|\n",
      "+-------+------------------+\n",
      "\n"
     ]
    }
   ],
   "source": [
    "recommendations_df = spark.createDataFrame(movies_list)\n",
    "recommendations_df.show()"
   ]
  },
  {
   "cell_type": "code",
   "execution_count": 32,
   "id": "212e3a85",
   "metadata": {},
   "outputs": [
    {
     "name": "stdout",
     "output_type": "stream",
     "text": [
      "+-------+--------------------+--------------------+\n",
      "|movieId|               title|              genres|\n",
      "+-------+--------------------+--------------------+\n",
      "|      1|    Toy Story (1995)|Adventure|Animati...|\n",
      "|      2|      Jumanji (1995)|Adventure|Childre...|\n",
      "|      3|Grumpier Old Men ...|      Comedy|Romance|\n",
      "|      4|Waiting to Exhale...|Comedy|Drama|Romance|\n",
      "|      5|Father of the Bri...|              Comedy|\n",
      "|      6|         Heat (1995)|Action|Crime|Thri...|\n",
      "|      7|      Sabrina (1995)|      Comedy|Romance|\n",
      "|      8| Tom and Huck (1995)|  Adventure|Children|\n",
      "|      9| Sudden Death (1995)|              Action|\n",
      "|     10|    GoldenEye (1995)|Action|Adventure|...|\n",
      "|     11|American Presiden...|Comedy|Drama|Romance|\n",
      "|     12|Dracula: Dead and...|       Comedy|Horror|\n",
      "|     13|        Balto (1995)|Adventure|Animati...|\n",
      "|     14|        Nixon (1995)|               Drama|\n",
      "|     15|Cutthroat Island ...|Action|Adventure|...|\n",
      "|     16|       Casino (1995)|         Crime|Drama|\n",
      "|     17|Sense and Sensibi...|       Drama|Romance|\n",
      "|     18|   Four Rooms (1995)|              Comedy|\n",
      "|     19|Ace Ventura: When...|              Comedy|\n",
      "|     20|  Money Train (1995)|Action|Comedy|Cri...|\n",
      "+-------+--------------------+--------------------+\n",
      "only showing top 20 rows\n",
      "\n"
     ]
    }
   ],
   "source": [
    "# attach movie names\n",
    "movies_file = \"/Users/keon/fastcampus/data-engineering/01-spark/data/ml-25m/movies.csv\" \n",
    "movies_df = spark.read.csv(movies_file,\n",
    "                           header=True,\n",
    "                           ignoreLeadingWhiteSpace= True)\n",
    "movies_df.show()"
   ]
  },
  {
   "cell_type": "code",
   "execution_count": 34,
   "id": "5f8ef5b9",
   "metadata": {},
   "outputs": [],
   "source": [
    "recommendations_df.createOrReplaceTempView(\"recommendations\")\n",
    "movies_df.createOrReplaceTempView(\"movies\")"
   ]
  },
  {
   "cell_type": "code",
   "execution_count": 43,
   "id": "c9428c5f",
   "metadata": {},
   "outputs": [
    {
     "name": "stdout",
     "output_type": "stream",
     "text": [
      "+-------+--------------------+------------------+-------+------------------+\n",
      "|movieId|               title|            genres|movieId|            rating|\n",
      "+-------+--------------------+------------------+-------+------------------+\n",
      "| 194434|   Adrenaline (1990)|(no genres listed)| 194434| 5.943130970001221|\n",
      "| 183947|NOFX Backstage Pa...|(no genres listed)| 183947| 5.567570209503174|\n",
      "| 203882|Dead in the Water...|            Horror| 203882|5.5637102127075195|\n",
      "| 166790|My Future Love (2...|(no genres listed)| 166790| 5.414093017578125|\n",
      "| 203086|Truth and Justice...|             Drama| 203086| 5.393131256103516|\n",
      "+-------+--------------------+------------------+-------+------------------+\n",
      "\n"
     ]
    }
   ],
   "source": [
    "query = \"\"\"\n",
    "SELECT\n",
    "    *\n",
    "FROM\n",
    "    movies JOIN recommendations\n",
    "    ON movies.movieId = recommendations.movieId\n",
    "ORDER BY rating desc\n",
    "\"\"\"\n",
    "recommended_movies = spark.sql(query)\n",
    "recommended_movies.show()"
   ]
  },
  {
   "cell_type": "code",
   "execution_count": 44,
   "id": "9da17ecf",
   "metadata": {},
   "outputs": [],
   "source": [
    "from pyspark.sql.types import IntegerType\n",
    "\n",
    "def get_recommendation(user_id, num_recs):\n",
    "    users_df = spark.createDataFrame([user_id], IntegerType()).toDF('userId')\n",
    "    user_rec_df = model.recommendForUserSubset(users_df, num_recs)\n",
    "    \n",
    "    recs_list = userRecs.collect()[0].recommendations\n",
    "    recs_df = spark.createDataFrame(recs_list)\n",
    "    \n",
    "    recommended_movies = spark.sql(query)\n",
    "    return recommended_movies"
   ]
  },
  {
   "cell_type": "code",
   "execution_count": 45,
   "id": "a7bf859c",
   "metadata": {},
   "outputs": [
    {
     "name": "stderr",
     "output_type": "stream",
     "text": [
      "/Users/keon/opt/anaconda3/lib/python3.8/site-packages/pyspark/sql/context.py:125: FutureWarning: Deprecated in 3.0.0. Use SparkSession.builder.getOrCreate() instead.\n",
      "  warnings.warn(\n"
     ]
    },
    {
     "data": {
      "text/html": [
       "<div>\n",
       "<style scoped>\n",
       "    .dataframe tbody tr th:only-of-type {\n",
       "        vertical-align: middle;\n",
       "    }\n",
       "\n",
       "    .dataframe tbody tr th {\n",
       "        vertical-align: top;\n",
       "    }\n",
       "\n",
       "    .dataframe thead th {\n",
       "        text-align: right;\n",
       "    }\n",
       "</style>\n",
       "<table border=\"1\" class=\"dataframe\">\n",
       "  <thead>\n",
       "    <tr style=\"text-align: right;\">\n",
       "      <th></th>\n",
       "      <th>movieId</th>\n",
       "      <th>title</th>\n",
       "      <th>genres</th>\n",
       "      <th>movieId</th>\n",
       "      <th>rating</th>\n",
       "    </tr>\n",
       "  </thead>\n",
       "  <tbody>\n",
       "    <tr>\n",
       "      <th>0</th>\n",
       "      <td>194434</td>\n",
       "      <td>Adrenaline (1990)</td>\n",
       "      <td>(no genres listed)</td>\n",
       "      <td>194434</td>\n",
       "      <td>5.943131</td>\n",
       "    </tr>\n",
       "    <tr>\n",
       "      <th>1</th>\n",
       "      <td>183947</td>\n",
       "      <td>NOFX Backstage Passport 2</td>\n",
       "      <td>(no genres listed)</td>\n",
       "      <td>183947</td>\n",
       "      <td>5.567570</td>\n",
       "    </tr>\n",
       "    <tr>\n",
       "      <th>2</th>\n",
       "      <td>203882</td>\n",
       "      <td>Dead in the Water (2006)</td>\n",
       "      <td>Horror</td>\n",
       "      <td>203882</td>\n",
       "      <td>5.563710</td>\n",
       "    </tr>\n",
       "    <tr>\n",
       "      <th>3</th>\n",
       "      <td>166790</td>\n",
       "      <td>My Future Love (2016)</td>\n",
       "      <td>(no genres listed)</td>\n",
       "      <td>166790</td>\n",
       "      <td>5.414093</td>\n",
       "    </tr>\n",
       "    <tr>\n",
       "      <th>4</th>\n",
       "      <td>203086</td>\n",
       "      <td>Truth and Justice (2019)</td>\n",
       "      <td>Drama</td>\n",
       "      <td>203086</td>\n",
       "      <td>5.393131</td>\n",
       "    </tr>\n",
       "  </tbody>\n",
       "</table>\n",
       "</div>"
      ],
      "text/plain": [
       "   movieId                      title              genres  movieId    rating\n",
       "0   194434          Adrenaline (1990)  (no genres listed)   194434  5.943131\n",
       "1   183947  NOFX Backstage Passport 2  (no genres listed)   183947  5.567570\n",
       "2   203882   Dead in the Water (2006)              Horror   203882  5.563710\n",
       "3   166790      My Future Love (2016)  (no genres listed)   166790  5.414093\n",
       "4   203086   Truth and Justice (2019)               Drama   203086  5.393131"
      ]
     },
     "execution_count": 45,
     "metadata": {},
     "output_type": "execute_result"
    }
   ],
   "source": [
    "recs = get_recommendation(456, 10)\n",
    "recs.toPandas()"
   ]
  },
  {
   "cell_type": "code",
   "execution_count": 46,
   "id": "b9f62635",
   "metadata": {},
   "outputs": [],
   "source": [
    "spark.stop()"
   ]
  },
  {
   "cell_type": "code",
   "execution_count": null,
   "id": "add31195",
   "metadata": {},
   "outputs": [],
   "source": []
  }
 ],
 "metadata": {
  "kernelspec": {
   "display_name": "Python 3",
   "language": "python",
   "name": "python3"
  },
  "language_info": {
   "codemirror_mode": {
    "name": "ipython",
    "version": 3
   },
   "file_extension": ".py",
   "mimetype": "text/x-python",
   "name": "python",
   "nbconvert_exporter": "python",
   "pygments_lexer": "ipython3",
   "version": "3.8.8"
  }
 },
 "nbformat": 4,
 "nbformat_minor": 5
}
